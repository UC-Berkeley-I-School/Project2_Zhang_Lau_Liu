{
 "cells": [
  {
   "cell_type": "code",
   "execution_count": 4,
   "metadata": {},
   "outputs": [],
   "source": [
    "import pandas as pd \n",
    "import matplotlib.pyplot as plt\n",
    "import numpy as np"
   ]
  },
  {
   "cell_type": "code",
   "execution_count": 5,
   "metadata": {},
   "outputs": [],
   "source": [
    "df = pd.read_csv('/Users/chrliu713gmail.com/Projects/datasci_200/1657049788_export.csv')"
   ]
  },
  {
   "cell_type": "code",
   "execution_count": 6,
   "metadata": {},
   "outputs": [],
   "source": [
    "# nan location\n",
    "networks_dict = {\n",
    "   # 'BBCNEWS':'',\n",
    "    'KCRG':'Ceder Rapids-Waterloo-Iowa City-Dublin, Iowa',\n",
    "    'KFXA':'Ceder Rapids-Waterloo-Iowa City-Dublin, Iowa',\n",
    "    'KGAN':'Ceder Rapids-Waterloo-Iowa City-Dublin, Iowa',\n",
    "    'KSNV':'Las Vegas, NV',\n",
    "    'WFLA':'Tampa-St. Petersburg, FL',\n",
    "    'WFTS':'Tampa-St. Petersburg, FL',\n",
    "    'WHDH':'Boston, MA/Manchester, NH',\n",
    "    'WNCN':'Raleigh-Durham-Fayetteville,  NC',\n",
    "    'WTOG':'Tampa-St. Petersburg, FL',\n",
    "    'WTVT':'Tampa-St. Petersburg, FL'\n",
    "}"
   ]
  },
  {
   "cell_type": "code",
   "execution_count": 7,
   "metadata": {},
   "outputs": [],
   "source": [
    "df['location'] = df.apply(lambda row: networks_dict.get(row['network'], row['location']), axis=1)"
   ]
  },
  {
   "cell_type": "code",
   "execution_count": 8,
   "metadata": {},
   "outputs": [
    {
     "data": {
      "text/html": [
       "<div>\n",
       "<style scoped>\n",
       "    .dataframe tbody tr th:only-of-type {\n",
       "        vertical-align: middle;\n",
       "    }\n",
       "\n",
       "    .dataframe tbody tr th {\n",
       "        vertical-align: top;\n",
       "    }\n",
       "\n",
       "    .dataframe thead th {\n",
       "        text-align: right;\n",
       "    }\n",
       "</style>\n",
       "<table border=\"1\" class=\"dataframe\">\n",
       "  <thead>\n",
       "    <tr style=\"text-align: right;\">\n",
       "      <th></th>\n",
       "      <th>id</th>\n",
       "      <th>wp_identifier</th>\n",
       "      <th>network</th>\n",
       "      <th>location</th>\n",
       "      <th>program</th>\n",
       "      <th>program_type</th>\n",
       "      <th>start_time</th>\n",
       "      <th>end_time</th>\n",
       "      <th>archive_id</th>\n",
       "      <th>embed_url</th>\n",
       "      <th>sponsors</th>\n",
       "      <th>sponsor_types</th>\n",
       "      <th>race</th>\n",
       "      <th>cycle</th>\n",
       "      <th>subjects</th>\n",
       "      <th>candidates</th>\n",
       "      <th>type</th>\n",
       "      <th>message</th>\n",
       "      <th>date_created</th>\n",
       "    </tr>\n",
       "  </thead>\n",
       "  <tbody>\n",
       "    <tr>\n",
       "      <th>364183</th>\n",
       "      <td>464204</td>\n",
       "      <td>8187</td>\n",
       "      <td>BBCNEWS</td>\n",
       "      <td>NaN</td>\n",
       "      <td>Newsday</td>\n",
       "      <td>news</td>\n",
       "      <td>2016-11-08 01:04:42 UTC</td>\n",
       "      <td>2016-11-08 01:06:42 UTC</td>\n",
       "      <td>PolAd_HillaryClinton_3av1e</td>\n",
       "      <td>https://archive.org/embed/PolAd_HillaryClinton...</td>\n",
       "      <td>Hillary for America</td>\n",
       "      <td>Multiple</td>\n",
       "      <td>PRES</td>\n",
       "      <td>2016.0</td>\n",
       "      <td>Candidate Biography, Economy, Election, Childr...</td>\n",
       "      <td>Hillary Clinton</td>\n",
       "      <td>campaign</td>\n",
       "      <td>pro</td>\n",
       "      <td>2016-11-28 19:40:13</td>\n",
       "    </tr>\n",
       "    <tr>\n",
       "      <th>364184</th>\n",
       "      <td>464206</td>\n",
       "      <td>4852</td>\n",
       "      <td>BBCNEWS</td>\n",
       "      <td>NaN</td>\n",
       "      <td>Victoria Derbyshire</td>\n",
       "      <td>not news</td>\n",
       "      <td>2016-11-08 09:23:06 UTC</td>\n",
       "      <td>2016-11-08 09:23:35 UTC</td>\n",
       "      <td>PolAd_DonaldTrump_5dwaz</td>\n",
       "      <td>https://archive.org/embed/PolAd_DonaldTrump_5dwaz</td>\n",
       "      <td>MoveOn.org</td>\n",
       "      <td>Hybrid Super PAC</td>\n",
       "      <td>PRES</td>\n",
       "      <td>2016.0</td>\n",
       "      <td>Candidate Biography, Guns, Supreme Court</td>\n",
       "      <td>Donald Trump</td>\n",
       "      <td>campaign</td>\n",
       "      <td>con</td>\n",
       "      <td>2016-11-28 20:42:16</td>\n",
       "    </tr>\n",
       "  </tbody>\n",
       "</table>\n",
       "</div>"
      ],
      "text/plain": [
       "            id  wp_identifier  network location              program  \\\n",
       "364183  464204           8187  BBCNEWS      NaN              Newsday   \n",
       "364184  464206           4852  BBCNEWS      NaN  Victoria Derbyshire   \n",
       "\n",
       "       program_type               start_time                 end_time  \\\n",
       "364183         news  2016-11-08 01:04:42 UTC  2016-11-08 01:06:42 UTC   \n",
       "364184     not news  2016-11-08 09:23:06 UTC  2016-11-08 09:23:35 UTC   \n",
       "\n",
       "                        archive_id  \\\n",
       "364183  PolAd_HillaryClinton_3av1e   \n",
       "364184     PolAd_DonaldTrump_5dwaz   \n",
       "\n",
       "                                                embed_url  \\\n",
       "364183  https://archive.org/embed/PolAd_HillaryClinton...   \n",
       "364184  https://archive.org/embed/PolAd_DonaldTrump_5dwaz   \n",
       "\n",
       "                   sponsors     sponsor_types  race   cycle  \\\n",
       "364183  Hillary for America          Multiple  PRES  2016.0   \n",
       "364184           MoveOn.org  Hybrid Super PAC  PRES  2016.0   \n",
       "\n",
       "                                                 subjects       candidates  \\\n",
       "364183  Candidate Biography, Economy, Election, Childr...  Hillary Clinton   \n",
       "364184           Candidate Biography, Guns, Supreme Court     Donald Trump   \n",
       "\n",
       "            type message         date_created  \n",
       "364183  campaign     pro  2016-11-28 19:40:13  \n",
       "364184  campaign     con  2016-11-28 20:42:16  "
      ]
     },
     "execution_count": 8,
     "metadata": {},
     "output_type": "execute_result"
    }
   ],
   "source": [
    "df[df.location.isnull()]"
   ]
  },
  {
   "cell_type": "code",
   "execution_count": 9,
   "metadata": {},
   "outputs": [
    {
     "data": {
      "text/html": [
       "<div>\n",
       "<style scoped>\n",
       "    .dataframe tbody tr th:only-of-type {\n",
       "        vertical-align: middle;\n",
       "    }\n",
       "\n",
       "    .dataframe tbody tr th {\n",
       "        vertical-align: top;\n",
       "    }\n",
       "\n",
       "    .dataframe thead th {\n",
       "        text-align: right;\n",
       "    }\n",
       "</style>\n",
       "<table border=\"1\" class=\"dataframe\">\n",
       "  <thead>\n",
       "    <tr style=\"text-align: right;\">\n",
       "      <th></th>\n",
       "      <th>id</th>\n",
       "      <th>wp_identifier</th>\n",
       "      <th>network</th>\n",
       "      <th>location</th>\n",
       "      <th>program</th>\n",
       "      <th>program_type</th>\n",
       "      <th>start_time</th>\n",
       "      <th>end_time</th>\n",
       "      <th>archive_id</th>\n",
       "      <th>embed_url</th>\n",
       "      <th>sponsors</th>\n",
       "      <th>sponsor_types</th>\n",
       "      <th>race</th>\n",
       "      <th>cycle</th>\n",
       "      <th>subjects</th>\n",
       "      <th>candidates</th>\n",
       "      <th>type</th>\n",
       "      <th>message</th>\n",
       "      <th>date_created</th>\n",
       "    </tr>\n",
       "  </thead>\n",
       "  <tbody>\n",
       "  </tbody>\n",
       "</table>\n",
       "</div>"
      ],
      "text/plain": [
       "Empty DataFrame\n",
       "Columns: [id, wp_identifier, network, location, program, program_type, start_time, end_time, archive_id, embed_url, sponsors, sponsor_types, race, cycle, subjects, candidates, type, message, date_created]\n",
       "Index: []"
      ]
     },
     "execution_count": 9,
     "metadata": {},
     "output_type": "execute_result"
    }
   ],
   "source": [
    "#364183,364184\t\n",
    "df = df.drop(364184)\n",
    "df = df.drop(364183)\n",
    "df.loc[df.network=='BBCNEWS']"
   ]
  },
  {
   "cell_type": "code",
   "execution_count": 10,
   "metadata": {},
   "outputs": [],
   "source": [
    "convert_location_dict= {\n",
    "'Cleveland, Ohio':'Cleveland, OH',\n",
    "'Ceder Rapids-Waterloo-Iowa City-Dublin, Iowa':'eder Rapids-Waterloo-Iowa City-Dublin, IA',\n",
    "'Washington, DC/Hagerstown, MD':'Washington DC/Hagerstown, MD',\n",
    "'Sioux City, Iowa':'Sioux City, IA',\n",
    "'Des Moines-Ames, Iowa':'Des Moines-Ames, IA', \n",
    "'Greenville-Spartanburg, SC/Asheville-Anderson, NC':'Greenville-Spartanburg SC/Asheville-Anderson, NC',\n",
    "'Boston, MA/Manchester, NH': 'Boston MA/Manchester, NH'\n",
    "}"
   ]
  },
  {
   "cell_type": "code",
   "execution_count": 11,
   "metadata": {},
   "outputs": [
    {
     "data": {
      "text/plain": [
       "array(['Las Vegas, NV', 'Raleigh-Durham-Fayetteville,  NC',\n",
       "       'Tampa-St. Petersburg, FL', 'Cleveland, OH',\n",
       "       'eder Rapids-Waterloo-Iowa City-Dublin, IA', 'Philadelphia, PA',\n",
       "       'Denver, CO', 'Milwaukee, WI',\n",
       "       'San Francisco-Oakland-San Jose, CA', 'Phoenix-Prescott, AZ',\n",
       "       'Boston MA/Manchester, NH', 'Washington DC/Hagerstown, MD',\n",
       "       'Orlando-Daytona Beach-Melbourne, FL', 'Sioux City, IA',\n",
       "       'New York City, NY', 'Reno, NV', 'Cincinnati, OH',\n",
       "       'Des Moines-Ames, IA', 'Norfolk-Portsmouth-Newport News, NC',\n",
       "       'Greenville-Spartanburg SC/Asheville-Anderson, NC',\n",
       "       'Colorado Springs-Pueblo, CO', 'Miami-Fort Lauderdale, FL',\n",
       "       'Charlotte, NC', 'Columbia, SC', 'Roanoke-Lynchburg, VA'],\n",
       "      dtype=object)"
      ]
     },
     "execution_count": 11,
     "metadata": {},
     "output_type": "execute_result"
    }
   ],
   "source": [
    "df['location'] = df.apply(lambda row: convert_location_dict.get(row['location'], row['location']), axis=1)\n",
    "df.location.unique()"
   ]
  },
  {
   "cell_type": "code",
   "execution_count": 12,
   "metadata": {},
   "outputs": [],
   "source": [
    "# Create states column for easier regional comparisons\n",
    "state_dict = {\n",
    "    'AL': 'Alabama', 'AK': 'Alaska', 'AZ': 'Arizona', 'AR': 'Arkansas', \n",
    "    'CA': 'California', 'CO': 'Colorado', 'CT': 'Connecticut', 'DE': 'Delaware',\n",
    "    'FL': 'Florida', 'GA': 'Georgia', 'HI': 'Hawaii', 'ID': 'Idaho', \n",
    "    'IL': 'Illinois', 'IN': 'Indiana', 'IA': 'Iowa', 'KS': 'Kansas',\n",
    "    'KY': 'Kentucky', 'LA': 'Louisiana', 'ME': 'Maine', 'MD': 'Maryland',\n",
    "    'MA': 'Massachusetts', 'MI': 'Michigan', 'MN': 'Minnesota', 'MS': 'Mississippi',\n",
    "    'MO': 'Missouri', 'MT': 'Montana', 'NE': 'Nebraska', 'NV': 'Nevada',\n",
    "    'NH': 'New Hampshire', 'NJ': 'New Jersey', 'NM': 'New Mexico', 'NY': 'New York',\n",
    "    'NC': 'North Carolina', 'ND': 'North Dakota', 'OH': 'Ohio', 'OK': 'Oklahoma',\n",
    "    'OR': 'Oregon', 'PA': 'Pennsylvania', 'RI': 'Rhode Island', 'SC': 'South Carolina',\n",
    "    'SD': 'South Dakota', 'TN': 'Tennessee', 'TX': 'Texas', 'UT': 'Utah',\n",
    "    'VT': 'Vermont', 'VA': 'Virginia', 'WA': 'Washington', 'WV': 'West Virginia',\n",
    "    'WI': 'Wisconsin', 'WY': 'Wyoming', 'DC': 'District of Columbia'\n",
    "}"
   ]
  },
  {
   "cell_type": "code",
   "execution_count": 13,
   "metadata": {},
   "outputs": [
    {
     "data": {
      "text/html": [
       "<div>\n",
       "<style scoped>\n",
       "    .dataframe tbody tr th:only-of-type {\n",
       "        vertical-align: middle;\n",
       "    }\n",
       "\n",
       "    .dataframe tbody tr th {\n",
       "        vertical-align: top;\n",
       "    }\n",
       "\n",
       "    .dataframe thead th {\n",
       "        text-align: right;\n",
       "    }\n",
       "</style>\n",
       "<table border=\"1\" class=\"dataframe\">\n",
       "  <thead>\n",
       "    <tr style=\"text-align: right;\">\n",
       "      <th></th>\n",
       "      <th>id</th>\n",
       "      <th>wp_identifier</th>\n",
       "      <th>network</th>\n",
       "      <th>location</th>\n",
       "      <th>program</th>\n",
       "      <th>program_type</th>\n",
       "      <th>start_time</th>\n",
       "      <th>end_time</th>\n",
       "      <th>archive_id</th>\n",
       "      <th>embed_url</th>\n",
       "      <th>sponsors</th>\n",
       "      <th>sponsor_types</th>\n",
       "      <th>race</th>\n",
       "      <th>cycle</th>\n",
       "      <th>subjects</th>\n",
       "      <th>candidates</th>\n",
       "      <th>type</th>\n",
       "      <th>message</th>\n",
       "      <th>date_created</th>\n",
       "      <th>state</th>\n",
       "    </tr>\n",
       "  </thead>\n",
       "  <tbody>\n",
       "    <tr>\n",
       "      <th>0</th>\n",
       "      <td>1</td>\n",
       "      <td>5643</td>\n",
       "      <td>KLAS</td>\n",
       "      <td>Las Vegas, NV</td>\n",
       "      <td>8 News Now at 5 PM</td>\n",
       "      <td>news</td>\n",
       "      <td>2016-09-09 00:12:59 UTC</td>\n",
       "      <td>2016-09-09 00:13:29 UTC</td>\n",
       "      <td>PolAd_HillaryClinton_f1h3j</td>\n",
       "      <td>https://archive.org/embed/PolAd_HillaryClinton...</td>\n",
       "      <td>Hillary for America</td>\n",
       "      <td>Multiple</td>\n",
       "      <td>PRES</td>\n",
       "      <td>2016.0</td>\n",
       "      <td>Energy, China, Jobs</td>\n",
       "      <td>Hillary Clinton</td>\n",
       "      <td>campaign</td>\n",
       "      <td>pro</td>\n",
       "      <td>2016-09-12 14:49:32</td>\n",
       "      <td>Nevada</td>\n",
       "    </tr>\n",
       "  </tbody>\n",
       "</table>\n",
       "</div>"
      ],
      "text/plain": [
       "   id  wp_identifier network       location             program program_type  \\\n",
       "0   1           5643    KLAS  Las Vegas, NV  8 News Now at 5 PM         news   \n",
       "\n",
       "                start_time                 end_time  \\\n",
       "0  2016-09-09 00:12:59 UTC  2016-09-09 00:13:29 UTC   \n",
       "\n",
       "                   archive_id  \\\n",
       "0  PolAd_HillaryClinton_f1h3j   \n",
       "\n",
       "                                           embed_url             sponsors  \\\n",
       "0  https://archive.org/embed/PolAd_HillaryClinton...  Hillary for America   \n",
       "\n",
       "  sponsor_types  race   cycle             subjects       candidates      type  \\\n",
       "0      Multiple  PRES  2016.0  Energy, China, Jobs  Hillary Clinton  campaign   \n",
       "\n",
       "  message         date_created   state  \n",
       "0     pro  2016-09-12 14:49:32  Nevada  "
      ]
     },
     "execution_count": 13,
     "metadata": {},
     "output_type": "execute_result"
    }
   ],
   "source": [
    "df['state'] = df.location.str.split(', ').str[1].map(state_dict)\n",
    "df.head(1)"
   ]
  },
  {
   "cell_type": "code",
   "execution_count": 14,
   "metadata": {},
   "outputs": [
    {
     "data": {
      "text/plain": [
       "array(['Raleigh-Durham-Fayetteville,  NC'], dtype=object)"
      ]
     },
     "execution_count": 14,
     "metadata": {},
     "output_type": "execute_result"
    }
   ],
   "source": [
    "df.location[df.state.isnull()].unique()"
   ]
  },
  {
   "cell_type": "code",
   "execution_count": 15,
   "metadata": {},
   "outputs": [
    {
     "data": {
      "text/plain": [
       "array([], dtype=object)"
      ]
     },
     "execution_count": 15,
     "metadata": {},
     "output_type": "execute_result"
    }
   ],
   "source": [
    "df.loc[df.location=='Raleigh-Durham-Fayetteville,  NC','state'] = 'North Carolina'\n",
    "df.location[df.state.isnull()].unique()"
   ]
  },
  {
   "cell_type": "code",
   "execution_count": 187,
   "metadata": {},
   "outputs": [],
   "source": [
    "top_candidates = ['Donald Trump', 'Hillary Clinton']\n",
    "df = df[df['candidates'].isin(top_candidates)]"
   ]
  },
  {
   "cell_type": "markdown",
   "metadata": {},
   "source": [
    "# Election results dataset"
   ]
  },
  {
   "cell_type": "code",
   "execution_count": 20,
   "metadata": {},
   "outputs": [
    {
     "data": {
      "text/html": [
       "<div>\n",
       "<style scoped>\n",
       "    .dataframe tbody tr th:only-of-type {\n",
       "        vertical-align: middle;\n",
       "    }\n",
       "\n",
       "    .dataframe tbody tr th {\n",
       "        vertical-align: top;\n",
       "    }\n",
       "\n",
       "    .dataframe thead th {\n",
       "        text-align: right;\n",
       "    }\n",
       "</style>\n",
       "<table border=\"1\" class=\"dataframe\">\n",
       "  <thead>\n",
       "    <tr style=\"text-align: right;\">\n",
       "      <th></th>\n",
       "      <th>year</th>\n",
       "      <th>state</th>\n",
       "      <th>state_po</th>\n",
       "      <th>state_fips</th>\n",
       "      <th>state_cen</th>\n",
       "      <th>state_ic</th>\n",
       "      <th>office</th>\n",
       "      <th>candidate</th>\n",
       "      <th>party_detailed</th>\n",
       "      <th>writein</th>\n",
       "      <th>candidatevotes</th>\n",
       "      <th>totalvotes</th>\n",
       "      <th>version</th>\n",
       "      <th>notes</th>\n",
       "      <th>party_simplified</th>\n",
       "    </tr>\n",
       "  </thead>\n",
       "  <tbody>\n",
       "    <tr>\n",
       "      <th>0</th>\n",
       "      <td>1976</td>\n",
       "      <td>ALABAMA</td>\n",
       "      <td>AL</td>\n",
       "      <td>1</td>\n",
       "      <td>63</td>\n",
       "      <td>41</td>\n",
       "      <td>US PRESIDENT</td>\n",
       "      <td>CARTER, JIMMY</td>\n",
       "      <td>DEMOCRAT</td>\n",
       "      <td>False</td>\n",
       "      <td>659170</td>\n",
       "      <td>1182850</td>\n",
       "      <td>20210113</td>\n",
       "      <td>NaN</td>\n",
       "      <td>DEMOCRAT</td>\n",
       "    </tr>\n",
       "  </tbody>\n",
       "</table>\n",
       "</div>"
      ],
      "text/plain": [
       "   year    state state_po state_fips  state_cen  state_ic        office  \\\n",
       "0  1976  ALABAMA       AL          1         63        41  US PRESIDENT   \n",
       "\n",
       "       candidate party_detailed writein  candidatevotes  totalvotes   version  \\\n",
       "0  CARTER, JIMMY       DEMOCRAT   False          659170     1182850  20210113   \n",
       "\n",
       "   notes party_simplified  \n",
       "0    NaN         DEMOCRAT  "
      ]
     },
     "execution_count": 20,
     "metadata": {},
     "output_type": "execute_result"
    }
   ],
   "source": [
    "pres = pd.read_csv('/Users/chrliu713gmail.com/Projects/datasci_200/1976-2020-president.csv', dtype={\"state_fips\":str})\n",
    "pres.head(1)"
   ]
  },
  {
   "cell_type": "code",
   "execution_count": 21,
   "metadata": {},
   "outputs": [
    {
     "data": {
      "text/html": [
       "<div>\n",
       "<style scoped>\n",
       "    .dataframe tbody tr th:only-of-type {\n",
       "        vertical-align: middle;\n",
       "    }\n",
       "\n",
       "    .dataframe tbody tr th {\n",
       "        vertical-align: top;\n",
       "    }\n",
       "\n",
       "    .dataframe thead th {\n",
       "        text-align: right;\n",
       "    }\n",
       "</style>\n",
       "<table border=\"1\" class=\"dataframe\">\n",
       "  <thead>\n",
       "    <tr style=\"text-align: right;\">\n",
       "      <th></th>\n",
       "      <th>state</th>\n",
       "      <th>state_fips</th>\n",
       "      <th>office</th>\n",
       "      <th>candidate</th>\n",
       "      <th>party</th>\n",
       "      <th>candidatevotes</th>\n",
       "      <th>totalvotes</th>\n",
       "    </tr>\n",
       "  </thead>\n",
       "  <tbody>\n",
       "    <tr>\n",
       "      <th>3395</th>\n",
       "      <td>ALABAMA</td>\n",
       "      <td>1</td>\n",
       "      <td>US PRESIDENT</td>\n",
       "      <td>TRUMP, DONALD J.</td>\n",
       "      <td>REPUBLICAN</td>\n",
       "      <td>1318255</td>\n",
       "      <td>2123372</td>\n",
       "    </tr>\n",
       "  </tbody>\n",
       "</table>\n",
       "</div>"
      ],
      "text/plain": [
       "        state state_fips        office         candidate       party  \\\n",
       "3395  ALABAMA          1  US PRESIDENT  TRUMP, DONALD J.  REPUBLICAN   \n",
       "\n",
       "      candidatevotes  totalvotes  \n",
       "3395         1318255     2123372  "
      ]
     },
     "execution_count": 21,
     "metadata": {},
     "output_type": "execute_result"
    }
   ],
   "source": [
    "# Filter for 2016 \n",
    "pres = pres[pres.year==2016]\n",
    "pres = pres[['state','state_fips','office','candidate','party_simplified','candidatevotes','totalvotes']]\n",
    "pres.columns = ['state','state_fips','office','candidate','party','candidatevotes','totalvotes']\n",
    "pres.head(1)"
   ]
  },
  {
   "cell_type": "code",
   "execution_count": 22,
   "metadata": {},
   "outputs": [
    {
     "data": {
      "text/html": [
       "<div>\n",
       "<style scoped>\n",
       "    .dataframe tbody tr th:only-of-type {\n",
       "        vertical-align: middle;\n",
       "    }\n",
       "\n",
       "    .dataframe tbody tr th {\n",
       "        vertical-align: top;\n",
       "    }\n",
       "\n",
       "    .dataframe thead th {\n",
       "        text-align: right;\n",
       "    }\n",
       "</style>\n",
       "<table border=\"1\" class=\"dataframe\">\n",
       "  <thead>\n",
       "    <tr style=\"text-align: right;\">\n",
       "      <th></th>\n",
       "      <th>state</th>\n",
       "      <th>state_fips</th>\n",
       "      <th>office</th>\n",
       "      <th>candidate</th>\n",
       "      <th>party</th>\n",
       "      <th>candidatevotes</th>\n",
       "      <th>totalvotes</th>\n",
       "    </tr>\n",
       "  </thead>\n",
       "  <tbody>\n",
       "    <tr>\n",
       "      <th>3395</th>\n",
       "      <td>Alabama</td>\n",
       "      <td>01</td>\n",
       "      <td>US PRESIDENT</td>\n",
       "      <td>TRUMP, DONALD J.</td>\n",
       "      <td>REPUBLICAN</td>\n",
       "      <td>1318255</td>\n",
       "      <td>2123372</td>\n",
       "    </tr>\n",
       "  </tbody>\n",
       "</table>\n",
       "</div>"
      ],
      "text/plain": [
       "        state state_fips        office         candidate       party  \\\n",
       "3395  Alabama         01  US PRESIDENT  TRUMP, DONALD J.  REPUBLICAN   \n",
       "\n",
       "      candidatevotes  totalvotes  \n",
       "3395         1318255     2123372  "
      ]
     },
     "execution_count": 22,
     "metadata": {},
     "output_type": "execute_result"
    }
   ],
   "source": [
    "# Format state_fips to match json for plotly graph\n",
    "pres.state = pres.state.str.title()\n",
    "pres.state_fips = pres.state_fips.astype(str).str.zfill(2)\n",
    "pres.head(1)"
   ]
  },
  {
   "cell_type": "code",
   "execution_count": 23,
   "metadata": {},
   "outputs": [
    {
     "data": {
      "text/html": [
       "<div>\n",
       "<style scoped>\n",
       "    .dataframe tbody tr th:only-of-type {\n",
       "        vertical-align: middle;\n",
       "    }\n",
       "\n",
       "    .dataframe tbody tr th {\n",
       "        vertical-align: top;\n",
       "    }\n",
       "\n",
       "    .dataframe thead th {\n",
       "        text-align: right;\n",
       "    }\n",
       "</style>\n",
       "<table border=\"1\" class=\"dataframe\">\n",
       "  <thead>\n",
       "    <tr style=\"text-align: right;\">\n",
       "      <th></th>\n",
       "      <th>state</th>\n",
       "      <th>state_fips</th>\n",
       "      <th>party</th>\n",
       "      <th>candidate</th>\n",
       "    </tr>\n",
       "  </thead>\n",
       "  <tbody>\n",
       "    <tr>\n",
       "      <th>3395</th>\n",
       "      <td>Alabama</td>\n",
       "      <td>01</td>\n",
       "      <td>REPUBLICAN</td>\n",
       "      <td>TRUMP, DONALD J.</td>\n",
       "    </tr>\n",
       "    <tr>\n",
       "      <th>3400</th>\n",
       "      <td>Alaska</td>\n",
       "      <td>02</td>\n",
       "      <td>REPUBLICAN</td>\n",
       "      <td>TRUMP, DONALD J.</td>\n",
       "    </tr>\n",
       "    <tr>\n",
       "      <th>3407</th>\n",
       "      <td>Arizona</td>\n",
       "      <td>04</td>\n",
       "      <td>REPUBLICAN</td>\n",
       "      <td>TRUMP, DONALD J.</td>\n",
       "    </tr>\n",
       "    <tr>\n",
       "      <th>3417</th>\n",
       "      <td>Arkansas</td>\n",
       "      <td>05</td>\n",
       "      <td>REPUBLICAN</td>\n",
       "      <td>TRUMP, DONALD J.</td>\n",
       "    </tr>\n",
       "    <tr>\n",
       "      <th>3425</th>\n",
       "      <td>California</td>\n",
       "      <td>06</td>\n",
       "      <td>DEMOCRAT</td>\n",
       "      <td>CLINTON, HILLARY</td>\n",
       "    </tr>\n",
       "  </tbody>\n",
       "</table>\n",
       "</div>"
      ],
      "text/plain": [
       "           state state_fips       party         candidate\n",
       "3395     Alabama         01  REPUBLICAN  TRUMP, DONALD J.\n",
       "3400      Alaska         02  REPUBLICAN  TRUMP, DONALD J.\n",
       "3407     Arizona         04  REPUBLICAN  TRUMP, DONALD J.\n",
       "3417    Arkansas         05  REPUBLICAN  TRUMP, DONALD J.\n",
       "3425  California         06    DEMOCRAT  CLINTON, HILLARY"
      ]
     },
     "execution_count": 23,
     "metadata": {},
     "output_type": "execute_result"
    }
   ],
   "source": [
    "# Find winners in each state\n",
    "\n",
    "def find_winner(df):\n",
    "    \"\"\"Returns dataframe\"\"\"\n",
    "    winners_idx = df.groupby('state')['candidatevotes'].idxmax()\n",
    "    winners = df.loc[winners_idx][['state', 'state_fips', 'party', 'candidate']] \n",
    "    return winners\n",
    "\n",
    "pres_results = find_winner(pres)\n",
    "pres_results.head(5)"
   ]
  },
  {
   "cell_type": "code",
   "execution_count": 24,
   "metadata": {},
   "outputs": [],
   "source": [
    "pres_results.columns = ['state','state_fips','winning_party','winning_candidate']"
   ]
  },
  {
   "cell_type": "markdown",
   "metadata": {},
   "source": [
    "# Top content by state for top 2 candidates"
   ]
  },
  {
   "cell_type": "code",
   "execution_count": null,
   "metadata": {},
   "outputs": [],
   "source": [
    "# split the subjects column into individual rows\n",
    "filtered_exploded = df.assign(subjects=df['subjects'].str.split(', ')).explode('subjects')\n",
    "filtered_clinton = filtered_exploded[filtered_exploded.candidates=='Hillary Clinton']\n",
    "filtered_trump = filtered_exploded[filtered_exploded.candidates=='Donald Trump']"
   ]
  },
  {
   "cell_type": "code",
   "execution_count": null,
   "metadata": {},
   "outputs": [],
   "source": [
    "# Top subjects per candidate per state\n",
    "top_subjects_clinton = filtered_clinton.groupby(['state','candidates'])['subjects'].value_counts().groupby(level=0).head(3).reset_index(name='count')\n",
    "top_subjects_trump = filtered_trump.groupby(['state','candidates'])['subjects'].value_counts().groupby(level=0).head(3).reset_index(name='count')\n"
   ]
  },
  {
   "cell_type": "code",
   "execution_count": null,
   "metadata": {},
   "outputs": [],
   "source": [
    "# combine with election results\n",
    "top_subjects_clinton = top_subjects_clinton.merge(pres_results, on='state', how='left')\n",
    "top_subjects_trump = top_subjects_trump.merge(pres_results, on='state', how='left')"
   ]
  },
  {
   "cell_type": "code",
   "execution_count": 209,
   "metadata": {},
   "outputs": [
    {
     "data": {
      "text/plain": [
       "['Candidate Biography',\n",
       " 'Children',\n",
       " 'Disability',\n",
       " 'Foreign Policy',\n",
       " 'Health Care',\n",
       " 'Immigration',\n",
       " 'Jobs',\n",
       " 'Legal Issues',\n",
       " 'Military',\n",
       " 'Taxes',\n",
       " 'Terrorism',\n",
       " 'Veterans',\n",
       " 'Women']"
      ]
     },
     "execution_count": 209,
     "metadata": {},
     "output_type": "execute_result"
    }
   ],
   "source": [
    "top_subjects_trump.subjects.drop_duplicates().sort_values().to_list()"
   ]
  },
  {
   "cell_type": "code",
   "execution_count": 224,
   "metadata": {},
   "outputs": [],
   "source": [
    "# Map subject to colors for graph \n",
    "clinton_subjects = {\n",
    "'Candidate Biography':'#845ec2',\n",
    "'Children':'#d65db1',\n",
    "'Civil Rights':'#ff6f91',\n",
    "'Economy':'#ff9671',\n",
    "'Foreign Policy':'#ffc75f',\n",
    "'Health Care':'#f9f871',\n",
    "'Islam':'#2c73d2',\n",
    "'Job Accomplishments':'#008f7a',\n",
    "'Jobs':'#fbeaff',\n",
    "'Legal Issues':'#fbeaff',\n",
    "'Nuclear':'#fbeaff',\n",
    "'Social Security':'#fefedf',\n",
    "'Taxes':'#2184a0',\n",
    "'Terrorism':'#d3e9f3',\n",
    "'Women':'#4ffbdf'\n",
    "}\n",
    "trump_subjects = {\n",
    "'Candidate Biography':'#845ec2',\n",
    "'Children':'#d65db1',\n",
    "'Disability':'#fefedf',\n",
    "'Foreign Policy':'#ffc75f',\n",
    "'Health Care':'#f9f871',\n",
    "'Immigration':'#0089ba',\n",
    "'Jobs':'#fbeaff',\n",
    "'Legal Issues':'#fbeaff',\n",
    "'Military':'#c34a36',\n",
    "'Taxes':'#2184a0',\n",
    "'Terrorism':'#d3e9f3',\n",
    "'Veterans':'#936c00',\n",
    "'Women':'#4ffbdf'\n",
    "}"
   ]
  },
  {
   "cell_type": "code",
   "execution_count": 222,
   "metadata": {},
   "outputs": [
    {
     "data": {
      "application/vnd.plotly.v1+json": {
       "config": {
        "plotlyServerURL": "https://plot.ly"
       },
       "data": [
        {
         "alignmentgroup": "True",
         "hovertemplate": "Subjects=Candidate Biography<br>State=%{x}<br>Ad Counts=%{y}<extra></extra>",
         "legendgroup": "Candidate Biography",
         "marker": {
          "color": "#845ec2",
          "pattern": {
           "shape": ""
          }
         },
         "name": "Candidate Biography",
         "offsetgroup": "Candidate Biography",
         "orientation": "v",
         "showlegend": true,
         "textposition": "auto",
         "type": "bar",
         "x": [
          "Arizona",
          "Florida",
          "North Carolina",
          "Ohio",
          "Pennsylvania",
          "Wisconsin"
         ],
         "xaxis": "x",
         "y": [
          1836,
          5698,
          1975,
          3500,
          4953,
          1171
         ],
         "yaxis": "y"
        },
        {
         "alignmentgroup": "True",
         "hovertemplate": "Subjects=Children<br>State=%{x}<br>Ad Counts=%{y}<extra></extra>",
         "legendgroup": "Children",
         "marker": {
          "color": "#d65db1",
          "pattern": {
           "shape": ""
          }
         },
         "name": "Children",
         "offsetgroup": "Children",
         "orientation": "v",
         "showlegend": true,
         "textposition": "auto",
         "type": "bar",
         "x": [
          "Arizona",
          "Wisconsin"
         ],
         "xaxis": "x",
         "y": [
          1167,
          821
         ],
         "yaxis": "y"
        },
        {
         "alignmentgroup": "True",
         "hovertemplate": "Subjects=Military<br>State=%{x}<br>Ad Counts=%{y}<extra></extra>",
         "legendgroup": "Military",
         "marker": {
          "color": "#c34a36",
          "pattern": {
           "shape": ""
          }
         },
         "name": "Military",
         "offsetgroup": "Military",
         "orientation": "v",
         "showlegend": true,
         "textposition": "auto",
         "type": "bar",
         "x": [
          "Arizona",
          "Florida",
          "Iowa",
          "North Carolina",
          "Ohio",
          "Pennsylvania"
         ],
         "xaxis": "x",
         "y": [
          648,
          1823,
          1833,
          1126,
          1629,
          2697
         ],
         "yaxis": "y"
        },
        {
         "alignmentgroup": "True",
         "hovertemplate": "Subjects=Veterans<br>State=%{x}<br>Ad Counts=%{y}<extra></extra>",
         "legendgroup": "Veterans",
         "marker": {
          "color": "#936c00",
          "pattern": {
           "shape": ""
          }
         },
         "name": "Veterans",
         "offsetgroup": "Veterans",
         "orientation": "v",
         "showlegend": true,
         "textposition": "auto",
         "type": "bar",
         "x": [
          "Florida",
          "Ohio"
         ],
         "xaxis": "x",
         "y": [
          1934,
          1334
         ],
         "yaxis": "y"
        },
        {
         "alignmentgroup": "True",
         "hovertemplate": "Subjects=Immigration<br>State=%{x}<br>Ad Counts=%{y}<extra></extra>",
         "legendgroup": "Immigration",
         "marker": {
          "color": "#0089ba",
          "pattern": {
           "shape": ""
          }
         },
         "name": "Immigration",
         "offsetgroup": "Immigration",
         "orientation": "v",
         "showlegend": true,
         "textposition": "auto",
         "type": "bar",
         "x": [
          "Iowa"
         ],
         "xaxis": "x",
         "y": [
          3156
         ],
         "yaxis": "y"
        },
        {
         "alignmentgroup": "True",
         "hovertemplate": "Subjects=Terrorism<br>State=%{x}<br>Ad Counts=%{y}<extra></extra>",
         "legendgroup": "Terrorism",
         "marker": {
          "color": "#d3e9f3",
          "pattern": {
           "shape": ""
          }
         },
         "name": "Terrorism",
         "offsetgroup": "Terrorism",
         "orientation": "v",
         "showlegend": true,
         "textposition": "auto",
         "type": "bar",
         "x": [
          "Iowa"
         ],
         "xaxis": "x",
         "y": [
          1883
         ],
         "yaxis": "y"
        },
        {
         "alignmentgroup": "True",
         "hovertemplate": "Subjects=Women<br>State=%{x}<br>Ad Counts=%{y}<extra></extra>",
         "legendgroup": "Women",
         "marker": {
          "color": "#4ffbdf",
          "pattern": {
           "shape": ""
          }
         },
         "name": "Women",
         "offsetgroup": "Women",
         "orientation": "v",
         "showlegend": true,
         "textposition": "auto",
         "type": "bar",
         "x": [
          "North Carolina",
          "Wisconsin"
         ],
         "xaxis": "x",
         "y": [
          864,
          623
         ],
         "yaxis": "y"
        },
        {
         "alignmentgroup": "True",
         "hovertemplate": "Subjects=Foreign Policy<br>State=%{x}<br>Ad Counts=%{y}<extra></extra>",
         "legendgroup": "Foreign Policy",
         "marker": {
          "color": "#ffc75f",
          "pattern": {
           "shape": ""
          }
         },
         "name": "Foreign Policy",
         "offsetgroup": "Foreign Policy",
         "orientation": "v",
         "showlegend": true,
         "textposition": "auto",
         "type": "bar",
         "x": [
          "Pennsylvania"
         ],
         "xaxis": "x",
         "y": [
          2400
         ],
         "yaxis": "y"
        },
        {
         "alignmentgroup": "True",
         "hovertemplate": "Subjects=Health Care<br>State=%{x}<br>Ad Counts=%{y}<extra></extra>",
         "legendgroup": "Health Care",
         "marker": {
          "color": "#f9f871",
          "pattern": {
           "shape": ""
          }
         },
         "name": "Health Care",
         "offsetgroup": "Health Care",
         "orientation": "v",
         "showlegend": true,
         "textposition": "auto",
         "type": "bar",
         "x": [
          "South Carolina"
         ],
         "xaxis": "x",
         "y": [
          193
         ],
         "yaxis": "y"
        },
        {
         "alignmentgroup": "True",
         "hovertemplate": "Subjects=Legal Issues<br>State=%{x}<br>Ad Counts=%{y}<extra></extra>",
         "legendgroup": "Legal Issues",
         "marker": {
          "color": "#fbeaff",
          "pattern": {
           "shape": ""
          }
         },
         "name": "Legal Issues",
         "offsetgroup": "Legal Issues",
         "orientation": "v",
         "showlegend": true,
         "textposition": "auto",
         "type": "bar",
         "x": [
          "South Carolina"
         ],
         "xaxis": "x",
         "y": [
          173
         ],
         "yaxis": "y"
        },
        {
         "alignmentgroup": "True",
         "hovertemplate": "Subjects=Taxes<br>State=%{x}<br>Ad Counts=%{y}<extra></extra>",
         "legendgroup": "Taxes",
         "marker": {
          "color": "#2184a0",
          "pattern": {
           "shape": ""
          }
         },
         "name": "Taxes",
         "offsetgroup": "Taxes",
         "orientation": "v",
         "showlegend": true,
         "textposition": "auto",
         "type": "bar",
         "x": [
          "South Carolina"
         ],
         "xaxis": "x",
         "y": [
          167
         ],
         "yaxis": "y"
        }
       ],
       "layout": {
        "barmode": "stack",
        "legend": {
         "title": {
          "text": "Subjects"
         },
         "tracegroupgap": 0
        },
        "template": {
         "data": {
          "bar": [
           {
            "error_x": {
             "color": "#2a3f5f"
            },
            "error_y": {
             "color": "#2a3f5f"
            },
            "marker": {
             "line": {
              "color": "#E5ECF6",
              "width": 0.5
             },
             "pattern": {
              "fillmode": "overlay",
              "size": 10,
              "solidity": 0.2
             }
            },
            "type": "bar"
           }
          ],
          "barpolar": [
           {
            "marker": {
             "line": {
              "color": "#E5ECF6",
              "width": 0.5
             },
             "pattern": {
              "fillmode": "overlay",
              "size": 10,
              "solidity": 0.2
             }
            },
            "type": "barpolar"
           }
          ],
          "carpet": [
           {
            "aaxis": {
             "endlinecolor": "#2a3f5f",
             "gridcolor": "white",
             "linecolor": "white",
             "minorgridcolor": "white",
             "startlinecolor": "#2a3f5f"
            },
            "baxis": {
             "endlinecolor": "#2a3f5f",
             "gridcolor": "white",
             "linecolor": "white",
             "minorgridcolor": "white",
             "startlinecolor": "#2a3f5f"
            },
            "type": "carpet"
           }
          ],
          "choropleth": [
           {
            "colorbar": {
             "outlinewidth": 0,
             "ticks": ""
            },
            "type": "choropleth"
           }
          ],
          "contour": [
           {
            "colorbar": {
             "outlinewidth": 0,
             "ticks": ""
            },
            "colorscale": [
             [
              0,
              "#0d0887"
             ],
             [
              0.1111111111111111,
              "#46039f"
             ],
             [
              0.2222222222222222,
              "#7201a8"
             ],
             [
              0.3333333333333333,
              "#9c179e"
             ],
             [
              0.4444444444444444,
              "#bd3786"
             ],
             [
              0.5555555555555556,
              "#d8576b"
             ],
             [
              0.6666666666666666,
              "#ed7953"
             ],
             [
              0.7777777777777778,
              "#fb9f3a"
             ],
             [
              0.8888888888888888,
              "#fdca26"
             ],
             [
              1,
              "#f0f921"
             ]
            ],
            "type": "contour"
           }
          ],
          "contourcarpet": [
           {
            "colorbar": {
             "outlinewidth": 0,
             "ticks": ""
            },
            "type": "contourcarpet"
           }
          ],
          "heatmap": [
           {
            "colorbar": {
             "outlinewidth": 0,
             "ticks": ""
            },
            "colorscale": [
             [
              0,
              "#0d0887"
             ],
             [
              0.1111111111111111,
              "#46039f"
             ],
             [
              0.2222222222222222,
              "#7201a8"
             ],
             [
              0.3333333333333333,
              "#9c179e"
             ],
             [
              0.4444444444444444,
              "#bd3786"
             ],
             [
              0.5555555555555556,
              "#d8576b"
             ],
             [
              0.6666666666666666,
              "#ed7953"
             ],
             [
              0.7777777777777778,
              "#fb9f3a"
             ],
             [
              0.8888888888888888,
              "#fdca26"
             ],
             [
              1,
              "#f0f921"
             ]
            ],
            "type": "heatmap"
           }
          ],
          "heatmapgl": [
           {
            "colorbar": {
             "outlinewidth": 0,
             "ticks": ""
            },
            "colorscale": [
             [
              0,
              "#0d0887"
             ],
             [
              0.1111111111111111,
              "#46039f"
             ],
             [
              0.2222222222222222,
              "#7201a8"
             ],
             [
              0.3333333333333333,
              "#9c179e"
             ],
             [
              0.4444444444444444,
              "#bd3786"
             ],
             [
              0.5555555555555556,
              "#d8576b"
             ],
             [
              0.6666666666666666,
              "#ed7953"
             ],
             [
              0.7777777777777778,
              "#fb9f3a"
             ],
             [
              0.8888888888888888,
              "#fdca26"
             ],
             [
              1,
              "#f0f921"
             ]
            ],
            "type": "heatmapgl"
           }
          ],
          "histogram": [
           {
            "marker": {
             "pattern": {
              "fillmode": "overlay",
              "size": 10,
              "solidity": 0.2
             }
            },
            "type": "histogram"
           }
          ],
          "histogram2d": [
           {
            "colorbar": {
             "outlinewidth": 0,
             "ticks": ""
            },
            "colorscale": [
             [
              0,
              "#0d0887"
             ],
             [
              0.1111111111111111,
              "#46039f"
             ],
             [
              0.2222222222222222,
              "#7201a8"
             ],
             [
              0.3333333333333333,
              "#9c179e"
             ],
             [
              0.4444444444444444,
              "#bd3786"
             ],
             [
              0.5555555555555556,
              "#d8576b"
             ],
             [
              0.6666666666666666,
              "#ed7953"
             ],
             [
              0.7777777777777778,
              "#fb9f3a"
             ],
             [
              0.8888888888888888,
              "#fdca26"
             ],
             [
              1,
              "#f0f921"
             ]
            ],
            "type": "histogram2d"
           }
          ],
          "histogram2dcontour": [
           {
            "colorbar": {
             "outlinewidth": 0,
             "ticks": ""
            },
            "colorscale": [
             [
              0,
              "#0d0887"
             ],
             [
              0.1111111111111111,
              "#46039f"
             ],
             [
              0.2222222222222222,
              "#7201a8"
             ],
             [
              0.3333333333333333,
              "#9c179e"
             ],
             [
              0.4444444444444444,
              "#bd3786"
             ],
             [
              0.5555555555555556,
              "#d8576b"
             ],
             [
              0.6666666666666666,
              "#ed7953"
             ],
             [
              0.7777777777777778,
              "#fb9f3a"
             ],
             [
              0.8888888888888888,
              "#fdca26"
             ],
             [
              1,
              "#f0f921"
             ]
            ],
            "type": "histogram2dcontour"
           }
          ],
          "mesh3d": [
           {
            "colorbar": {
             "outlinewidth": 0,
             "ticks": ""
            },
            "type": "mesh3d"
           }
          ],
          "parcoords": [
           {
            "line": {
             "colorbar": {
              "outlinewidth": 0,
              "ticks": ""
             }
            },
            "type": "parcoords"
           }
          ],
          "pie": [
           {
            "automargin": true,
            "type": "pie"
           }
          ],
          "scatter": [
           {
            "fillpattern": {
             "fillmode": "overlay",
             "size": 10,
             "solidity": 0.2
            },
            "type": "scatter"
           }
          ],
          "scatter3d": [
           {
            "line": {
             "colorbar": {
              "outlinewidth": 0,
              "ticks": ""
             }
            },
            "marker": {
             "colorbar": {
              "outlinewidth": 0,
              "ticks": ""
             }
            },
            "type": "scatter3d"
           }
          ],
          "scattercarpet": [
           {
            "marker": {
             "colorbar": {
              "outlinewidth": 0,
              "ticks": ""
             }
            },
            "type": "scattercarpet"
           }
          ],
          "scattergeo": [
           {
            "marker": {
             "colorbar": {
              "outlinewidth": 0,
              "ticks": ""
             }
            },
            "type": "scattergeo"
           }
          ],
          "scattergl": [
           {
            "marker": {
             "colorbar": {
              "outlinewidth": 0,
              "ticks": ""
             }
            },
            "type": "scattergl"
           }
          ],
          "scattermapbox": [
           {
            "marker": {
             "colorbar": {
              "outlinewidth": 0,
              "ticks": ""
             }
            },
            "type": "scattermapbox"
           }
          ],
          "scatterpolar": [
           {
            "marker": {
             "colorbar": {
              "outlinewidth": 0,
              "ticks": ""
             }
            },
            "type": "scatterpolar"
           }
          ],
          "scatterpolargl": [
           {
            "marker": {
             "colorbar": {
              "outlinewidth": 0,
              "ticks": ""
             }
            },
            "type": "scatterpolargl"
           }
          ],
          "scatterternary": [
           {
            "marker": {
             "colorbar": {
              "outlinewidth": 0,
              "ticks": ""
             }
            },
            "type": "scatterternary"
           }
          ],
          "surface": [
           {
            "colorbar": {
             "outlinewidth": 0,
             "ticks": ""
            },
            "colorscale": [
             [
              0,
              "#0d0887"
             ],
             [
              0.1111111111111111,
              "#46039f"
             ],
             [
              0.2222222222222222,
              "#7201a8"
             ],
             [
              0.3333333333333333,
              "#9c179e"
             ],
             [
              0.4444444444444444,
              "#bd3786"
             ],
             [
              0.5555555555555556,
              "#d8576b"
             ],
             [
              0.6666666666666666,
              "#ed7953"
             ],
             [
              0.7777777777777778,
              "#fb9f3a"
             ],
             [
              0.8888888888888888,
              "#fdca26"
             ],
             [
              1,
              "#f0f921"
             ]
            ],
            "type": "surface"
           }
          ],
          "table": [
           {
            "cells": {
             "fill": {
              "color": "#EBF0F8"
             },
             "line": {
              "color": "white"
             }
            },
            "header": {
             "fill": {
              "color": "#C8D4E3"
             },
             "line": {
              "color": "white"
             }
            },
            "type": "table"
           }
          ]
         },
         "layout": {
          "annotationdefaults": {
           "arrowcolor": "#2a3f5f",
           "arrowhead": 0,
           "arrowwidth": 1
          },
          "autotypenumbers": "strict",
          "coloraxis": {
           "colorbar": {
            "outlinewidth": 0,
            "ticks": ""
           }
          },
          "colorscale": {
           "diverging": [
            [
             0,
             "#8e0152"
            ],
            [
             0.1,
             "#c51b7d"
            ],
            [
             0.2,
             "#de77ae"
            ],
            [
             0.3,
             "#f1b6da"
            ],
            [
             0.4,
             "#fde0ef"
            ],
            [
             0.5,
             "#f7f7f7"
            ],
            [
             0.6,
             "#e6f5d0"
            ],
            [
             0.7,
             "#b8e186"
            ],
            [
             0.8,
             "#7fbc41"
            ],
            [
             0.9,
             "#4d9221"
            ],
            [
             1,
             "#276419"
            ]
           ],
           "sequential": [
            [
             0,
             "#0d0887"
            ],
            [
             0.1111111111111111,
             "#46039f"
            ],
            [
             0.2222222222222222,
             "#7201a8"
            ],
            [
             0.3333333333333333,
             "#9c179e"
            ],
            [
             0.4444444444444444,
             "#bd3786"
            ],
            [
             0.5555555555555556,
             "#d8576b"
            ],
            [
             0.6666666666666666,
             "#ed7953"
            ],
            [
             0.7777777777777778,
             "#fb9f3a"
            ],
            [
             0.8888888888888888,
             "#fdca26"
            ],
            [
             1,
             "#f0f921"
            ]
           ],
           "sequentialminus": [
            [
             0,
             "#0d0887"
            ],
            [
             0.1111111111111111,
             "#46039f"
            ],
            [
             0.2222222222222222,
             "#7201a8"
            ],
            [
             0.3333333333333333,
             "#9c179e"
            ],
            [
             0.4444444444444444,
             "#bd3786"
            ],
            [
             0.5555555555555556,
             "#d8576b"
            ],
            [
             0.6666666666666666,
             "#ed7953"
            ],
            [
             0.7777777777777778,
             "#fb9f3a"
            ],
            [
             0.8888888888888888,
             "#fdca26"
            ],
            [
             1,
             "#f0f921"
            ]
           ]
          },
          "colorway": [
           "#636efa",
           "#EF553B",
           "#00cc96",
           "#ab63fa",
           "#FFA15A",
           "#19d3f3",
           "#FF6692",
           "#B6E880",
           "#FF97FF",
           "#FECB52"
          ],
          "font": {
           "color": "#2a3f5f"
          },
          "geo": {
           "bgcolor": "white",
           "lakecolor": "white",
           "landcolor": "#E5ECF6",
           "showlakes": true,
           "showland": true,
           "subunitcolor": "white"
          },
          "hoverlabel": {
           "align": "left"
          },
          "hovermode": "closest",
          "mapbox": {
           "style": "light"
          },
          "paper_bgcolor": "white",
          "plot_bgcolor": "#E5ECF6",
          "polar": {
           "angularaxis": {
            "gridcolor": "white",
            "linecolor": "white",
            "ticks": ""
           },
           "bgcolor": "#E5ECF6",
           "radialaxis": {
            "gridcolor": "white",
            "linecolor": "white",
            "ticks": ""
           }
          },
          "scene": {
           "xaxis": {
            "backgroundcolor": "#E5ECF6",
            "gridcolor": "white",
            "gridwidth": 2,
            "linecolor": "white",
            "showbackground": true,
            "ticks": "",
            "zerolinecolor": "white"
           },
           "yaxis": {
            "backgroundcolor": "#E5ECF6",
            "gridcolor": "white",
            "gridwidth": 2,
            "linecolor": "white",
            "showbackground": true,
            "ticks": "",
            "zerolinecolor": "white"
           },
           "zaxis": {
            "backgroundcolor": "#E5ECF6",
            "gridcolor": "white",
            "gridwidth": 2,
            "linecolor": "white",
            "showbackground": true,
            "ticks": "",
            "zerolinecolor": "white"
           }
          },
          "shapedefaults": {
           "line": {
            "color": "#2a3f5f"
           }
          },
          "ternary": {
           "aaxis": {
            "gridcolor": "white",
            "linecolor": "white",
            "ticks": ""
           },
           "baxis": {
            "gridcolor": "white",
            "linecolor": "white",
            "ticks": ""
           },
           "bgcolor": "#E5ECF6",
           "caxis": {
            "gridcolor": "white",
            "linecolor": "white",
            "ticks": ""
           }
          },
          "title": {
           "x": 0.05
          },
          "xaxis": {
           "automargin": true,
           "gridcolor": "white",
           "linecolor": "white",
           "ticks": "",
           "title": {
            "standoff": 15
           },
           "zerolinecolor": "white",
           "zerolinewidth": 2
          },
          "yaxis": {
           "automargin": true,
           "gridcolor": "white",
           "linecolor": "white",
           "ticks": "",
           "title": {
            "standoff": 15
           },
           "zerolinecolor": "white",
           "zerolinewidth": 2
          }
         }
        },
        "title": {
         "text": "Trump Ads"
        },
        "width": 800,
        "xaxis": {
         "anchor": "y",
         "domain": [
          0,
          1
         ],
         "title": {
          "text": "State"
         }
        },
        "yaxis": {
         "anchor": "x",
         "domain": [
          0,
          1
         ],
         "range": [
          0,
          17000
         ],
         "title": {
          "text": "Ads Count"
         }
        }
       }
      }
     },
     "metadata": {},
     "output_type": "display_data"
    }
   ],
   "source": [
    "# States Trump Won \n",
    "import plotly.express as px\n",
    "\n",
    "fig = px.bar(top_subjects_trump[top_subjects_trump.winning_candidate=='TRUMP, DONALD J.'],\n",
    "             x='state',\n",
    "             y='count',\n",
    "             color='subjects',\n",
    "             title='Trump Ads',\n",
    "             labels={'state': 'State', 'count': 'Ad Counts', 'subjects': 'Subjects'},\n",
    "             width=800,\n",
    "             color_discrete_map=trump_subjects,\n",
    "             )\n",
    "\n",
    "fig.update_layout(barmode='stack', xaxis_title='State', yaxis_title='Ads Count', legend_title='Subjects')\n",
    "fig.update_layout(yaxis=dict(range=[0,17000]))\n",
    "fig.show()"
   ]
  },
  {
   "cell_type": "code",
   "execution_count": 225,
   "metadata": {},
   "outputs": [
    {
     "data": {
      "application/vnd.plotly.v1+json": {
       "config": {
        "plotlyServerURL": "https://plot.ly"
       },
       "data": [
        {
         "alignmentgroup": "True",
         "hovertemplate": "Subjects=Candidate Biography<br>State=%{x}<br>Ad Counts=%{y}<extra></extra>",
         "legendgroup": "Candidate Biography",
         "marker": {
          "color": "#845ec2",
          "pattern": {
           "shape": ""
          }
         },
         "name": "Candidate Biography",
         "offsetgroup": "Candidate Biography",
         "orientation": "v",
         "showlegend": true,
         "textposition": "auto",
         "type": "bar",
         "x": [
          "Arizona",
          "Florida",
          "North Carolina",
          "Ohio",
          "Pennsylvania",
          "Wisconsin"
         ],
         "xaxis": "x",
         "y": [
          721,
          2154,
          978,
          1959,
          2262,
          1571
         ],
         "yaxis": "y"
        },
        {
         "alignmentgroup": "True",
         "hovertemplate": "Subjects=Children<br>State=%{x}<br>Ad Counts=%{y}<extra></extra>",
         "legendgroup": "Children",
         "marker": {
          "color": "#d65db1",
          "pattern": {
           "shape": ""
          }
         },
         "name": "Children",
         "offsetgroup": "Children",
         "orientation": "v",
         "showlegend": true,
         "textposition": "auto",
         "type": "bar",
         "x": [
          "Arizona",
          "Florida",
          "Pennsylvania"
         ],
         "xaxis": "x",
         "y": [
          452,
          715,
          818
         ],
         "yaxis": "y"
        },
        {
         "alignmentgroup": "True",
         "hovertemplate": "Subjects=Terrorism<br>State=%{x}<br>Ad Counts=%{y}<extra></extra>",
         "legendgroup": "Terrorism",
         "marker": {
          "color": "#d3e9f3",
          "pattern": {
           "shape": ""
          }
         },
         "name": "Terrorism",
         "offsetgroup": "Terrorism",
         "orientation": "v",
         "showlegend": true,
         "textposition": "auto",
         "type": "bar",
         "x": [
          "Arizona"
         ],
         "xaxis": "x",
         "y": [
          276
         ],
         "yaxis": "y"
        },
        {
         "alignmentgroup": "True",
         "hovertemplate": "Subjects=Jobs<br>State=%{x}<br>Ad Counts=%{y}<extra></extra>",
         "legendgroup": "Jobs",
         "marker": {
          "color": "#fbeaff",
          "pattern": {
           "shape": ""
          }
         },
         "name": "Jobs",
         "offsetgroup": "Jobs",
         "orientation": "v",
         "showlegend": true,
         "textposition": "auto",
         "type": "bar",
         "x": [
          "Florida",
          "North Carolina",
          "Ohio",
          "Pennsylvania"
         ],
         "xaxis": "x",
         "y": [
          1036,
          1093,
          1605,
          1240
         ],
         "yaxis": "y"
        },
        {
         "alignmentgroup": "True",
         "hovertemplate": "Subjects=Health Care<br>State=%{x}<br>Ad Counts=%{y}<extra></extra>",
         "legendgroup": "Health Care",
         "marker": {
          "color": "#f9f871",
          "pattern": {
           "shape": ""
          }
         },
         "name": "Health Care",
         "offsetgroup": "Health Care",
         "orientation": "v",
         "showlegend": true,
         "textposition": "auto",
         "type": "bar",
         "x": [
          "Iowa",
          "South Carolina"
         ],
         "xaxis": "x",
         "y": [
          6909,
          363
         ],
         "yaxis": "y"
        },
        {
         "alignmentgroup": "True",
         "hovertemplate": "Subjects=Economy<br>State=%{x}<br>Ad Counts=%{y}<extra></extra>",
         "legendgroup": "Economy",
         "marker": {
          "color": "#ff9671",
          "pattern": {
           "shape": ""
          }
         },
         "name": "Economy",
         "offsetgroup": "Economy",
         "orientation": "v",
         "showlegend": true,
         "textposition": "auto",
         "type": "bar",
         "x": [
          "Iowa",
          "Ohio"
         ],
         "xaxis": "x",
         "y": [
          4760,
          1144
         ],
         "yaxis": "y"
        },
        {
         "alignmentgroup": "True",
         "hovertemplate": "Subjects=Foreign Policy<br>State=%{x}<br>Ad Counts=%{y}<extra></extra>",
         "legendgroup": "Foreign Policy",
         "marker": {
          "color": "#ffc75f",
          "pattern": {
           "shape": ""
          }
         },
         "name": "Foreign Policy",
         "offsetgroup": "Foreign Policy",
         "orientation": "v",
         "showlegend": true,
         "textposition": "auto",
         "type": "bar",
         "x": [
          "Iowa",
          "Wisconsin"
         ],
         "xaxis": "x",
         "y": [
          4511,
          475
         ],
         "yaxis": "y"
        },
        {
         "alignmentgroup": "True",
         "hovertemplate": "Subjects=Women<br>State=%{x}<br>Ad Counts=%{y}<extra></extra>",
         "legendgroup": "Women",
         "marker": {
          "color": "#4ffbdf",
          "pattern": {
           "shape": ""
          }
         },
         "name": "Women",
         "offsetgroup": "Women",
         "orientation": "v",
         "showlegend": true,
         "textposition": "auto",
         "type": "bar",
         "x": [
          "North Carolina"
         ],
         "xaxis": "x",
         "y": [
          824
         ],
         "yaxis": "y"
        },
        {
         "alignmentgroup": "True",
         "hovertemplate": "Subjects=Job Accomplishments<br>State=%{x}<br>Ad Counts=%{y}<extra></extra>",
         "legendgroup": "Job Accomplishments",
         "marker": {
          "color": "#008f7a",
          "pattern": {
           "shape": ""
          }
         },
         "name": "Job Accomplishments",
         "offsetgroup": "Job Accomplishments",
         "orientation": "v",
         "showlegend": true,
         "textposition": "auto",
         "type": "bar",
         "x": [
          "South Carolina"
         ],
         "xaxis": "x",
         "y": [
          387
         ],
         "yaxis": "y"
        },
        {
         "alignmentgroup": "True",
         "hovertemplate": "Subjects=Civil Rights<br>State=%{x}<br>Ad Counts=%{y}<extra></extra>",
         "legendgroup": "Civil Rights",
         "marker": {
          "color": "#ff6f91",
          "pattern": {
           "shape": ""
          }
         },
         "name": "Civil Rights",
         "offsetgroup": "Civil Rights",
         "orientation": "v",
         "showlegend": true,
         "textposition": "auto",
         "type": "bar",
         "x": [
          "South Carolina"
         ],
         "xaxis": "x",
         "y": [
          323
         ],
         "yaxis": "y"
        },
        {
         "alignmentgroup": "True",
         "hovertemplate": "Subjects=Islam<br>State=%{x}<br>Ad Counts=%{y}<extra></extra>",
         "legendgroup": "Islam",
         "marker": {
          "color": "#2c73d2",
          "pattern": {
           "shape": ""
          }
         },
         "name": "Islam",
         "offsetgroup": "Islam",
         "orientation": "v",
         "showlegend": true,
         "textposition": "auto",
         "type": "bar",
         "x": [
          "Wisconsin"
         ],
         "xaxis": "x",
         "y": [
          270
         ],
         "yaxis": "y"
        }
       ],
       "layout": {
        "barmode": "stack",
        "legend": {
         "title": {
          "text": "Subjects"
         },
         "tracegroupgap": 0
        },
        "template": {
         "data": {
          "bar": [
           {
            "error_x": {
             "color": "#2a3f5f"
            },
            "error_y": {
             "color": "#2a3f5f"
            },
            "marker": {
             "line": {
              "color": "#E5ECF6",
              "width": 0.5
             },
             "pattern": {
              "fillmode": "overlay",
              "size": 10,
              "solidity": 0.2
             }
            },
            "type": "bar"
           }
          ],
          "barpolar": [
           {
            "marker": {
             "line": {
              "color": "#E5ECF6",
              "width": 0.5
             },
             "pattern": {
              "fillmode": "overlay",
              "size": 10,
              "solidity": 0.2
             }
            },
            "type": "barpolar"
           }
          ],
          "carpet": [
           {
            "aaxis": {
             "endlinecolor": "#2a3f5f",
             "gridcolor": "white",
             "linecolor": "white",
             "minorgridcolor": "white",
             "startlinecolor": "#2a3f5f"
            },
            "baxis": {
             "endlinecolor": "#2a3f5f",
             "gridcolor": "white",
             "linecolor": "white",
             "minorgridcolor": "white",
             "startlinecolor": "#2a3f5f"
            },
            "type": "carpet"
           }
          ],
          "choropleth": [
           {
            "colorbar": {
             "outlinewidth": 0,
             "ticks": ""
            },
            "type": "choropleth"
           }
          ],
          "contour": [
           {
            "colorbar": {
             "outlinewidth": 0,
             "ticks": ""
            },
            "colorscale": [
             [
              0,
              "#0d0887"
             ],
             [
              0.1111111111111111,
              "#46039f"
             ],
             [
              0.2222222222222222,
              "#7201a8"
             ],
             [
              0.3333333333333333,
              "#9c179e"
             ],
             [
              0.4444444444444444,
              "#bd3786"
             ],
             [
              0.5555555555555556,
              "#d8576b"
             ],
             [
              0.6666666666666666,
              "#ed7953"
             ],
             [
              0.7777777777777778,
              "#fb9f3a"
             ],
             [
              0.8888888888888888,
              "#fdca26"
             ],
             [
              1,
              "#f0f921"
             ]
            ],
            "type": "contour"
           }
          ],
          "contourcarpet": [
           {
            "colorbar": {
             "outlinewidth": 0,
             "ticks": ""
            },
            "type": "contourcarpet"
           }
          ],
          "heatmap": [
           {
            "colorbar": {
             "outlinewidth": 0,
             "ticks": ""
            },
            "colorscale": [
             [
              0,
              "#0d0887"
             ],
             [
              0.1111111111111111,
              "#46039f"
             ],
             [
              0.2222222222222222,
              "#7201a8"
             ],
             [
              0.3333333333333333,
              "#9c179e"
             ],
             [
              0.4444444444444444,
              "#bd3786"
             ],
             [
              0.5555555555555556,
              "#d8576b"
             ],
             [
              0.6666666666666666,
              "#ed7953"
             ],
             [
              0.7777777777777778,
              "#fb9f3a"
             ],
             [
              0.8888888888888888,
              "#fdca26"
             ],
             [
              1,
              "#f0f921"
             ]
            ],
            "type": "heatmap"
           }
          ],
          "heatmapgl": [
           {
            "colorbar": {
             "outlinewidth": 0,
             "ticks": ""
            },
            "colorscale": [
             [
              0,
              "#0d0887"
             ],
             [
              0.1111111111111111,
              "#46039f"
             ],
             [
              0.2222222222222222,
              "#7201a8"
             ],
             [
              0.3333333333333333,
              "#9c179e"
             ],
             [
              0.4444444444444444,
              "#bd3786"
             ],
             [
              0.5555555555555556,
              "#d8576b"
             ],
             [
              0.6666666666666666,
              "#ed7953"
             ],
             [
              0.7777777777777778,
              "#fb9f3a"
             ],
             [
              0.8888888888888888,
              "#fdca26"
             ],
             [
              1,
              "#f0f921"
             ]
            ],
            "type": "heatmapgl"
           }
          ],
          "histogram": [
           {
            "marker": {
             "pattern": {
              "fillmode": "overlay",
              "size": 10,
              "solidity": 0.2
             }
            },
            "type": "histogram"
           }
          ],
          "histogram2d": [
           {
            "colorbar": {
             "outlinewidth": 0,
             "ticks": ""
            },
            "colorscale": [
             [
              0,
              "#0d0887"
             ],
             [
              0.1111111111111111,
              "#46039f"
             ],
             [
              0.2222222222222222,
              "#7201a8"
             ],
             [
              0.3333333333333333,
              "#9c179e"
             ],
             [
              0.4444444444444444,
              "#bd3786"
             ],
             [
              0.5555555555555556,
              "#d8576b"
             ],
             [
              0.6666666666666666,
              "#ed7953"
             ],
             [
              0.7777777777777778,
              "#fb9f3a"
             ],
             [
              0.8888888888888888,
              "#fdca26"
             ],
             [
              1,
              "#f0f921"
             ]
            ],
            "type": "histogram2d"
           }
          ],
          "histogram2dcontour": [
           {
            "colorbar": {
             "outlinewidth": 0,
             "ticks": ""
            },
            "colorscale": [
             [
              0,
              "#0d0887"
             ],
             [
              0.1111111111111111,
              "#46039f"
             ],
             [
              0.2222222222222222,
              "#7201a8"
             ],
             [
              0.3333333333333333,
              "#9c179e"
             ],
             [
              0.4444444444444444,
              "#bd3786"
             ],
             [
              0.5555555555555556,
              "#d8576b"
             ],
             [
              0.6666666666666666,
              "#ed7953"
             ],
             [
              0.7777777777777778,
              "#fb9f3a"
             ],
             [
              0.8888888888888888,
              "#fdca26"
             ],
             [
              1,
              "#f0f921"
             ]
            ],
            "type": "histogram2dcontour"
           }
          ],
          "mesh3d": [
           {
            "colorbar": {
             "outlinewidth": 0,
             "ticks": ""
            },
            "type": "mesh3d"
           }
          ],
          "parcoords": [
           {
            "line": {
             "colorbar": {
              "outlinewidth": 0,
              "ticks": ""
             }
            },
            "type": "parcoords"
           }
          ],
          "pie": [
           {
            "automargin": true,
            "type": "pie"
           }
          ],
          "scatter": [
           {
            "fillpattern": {
             "fillmode": "overlay",
             "size": 10,
             "solidity": 0.2
            },
            "type": "scatter"
           }
          ],
          "scatter3d": [
           {
            "line": {
             "colorbar": {
              "outlinewidth": 0,
              "ticks": ""
             }
            },
            "marker": {
             "colorbar": {
              "outlinewidth": 0,
              "ticks": ""
             }
            },
            "type": "scatter3d"
           }
          ],
          "scattercarpet": [
           {
            "marker": {
             "colorbar": {
              "outlinewidth": 0,
              "ticks": ""
             }
            },
            "type": "scattercarpet"
           }
          ],
          "scattergeo": [
           {
            "marker": {
             "colorbar": {
              "outlinewidth": 0,
              "ticks": ""
             }
            },
            "type": "scattergeo"
           }
          ],
          "scattergl": [
           {
            "marker": {
             "colorbar": {
              "outlinewidth": 0,
              "ticks": ""
             }
            },
            "type": "scattergl"
           }
          ],
          "scattermapbox": [
           {
            "marker": {
             "colorbar": {
              "outlinewidth": 0,
              "ticks": ""
             }
            },
            "type": "scattermapbox"
           }
          ],
          "scatterpolar": [
           {
            "marker": {
             "colorbar": {
              "outlinewidth": 0,
              "ticks": ""
             }
            },
            "type": "scatterpolar"
           }
          ],
          "scatterpolargl": [
           {
            "marker": {
             "colorbar": {
              "outlinewidth": 0,
              "ticks": ""
             }
            },
            "type": "scatterpolargl"
           }
          ],
          "scatterternary": [
           {
            "marker": {
             "colorbar": {
              "outlinewidth": 0,
              "ticks": ""
             }
            },
            "type": "scatterternary"
           }
          ],
          "surface": [
           {
            "colorbar": {
             "outlinewidth": 0,
             "ticks": ""
            },
            "colorscale": [
             [
              0,
              "#0d0887"
             ],
             [
              0.1111111111111111,
              "#46039f"
             ],
             [
              0.2222222222222222,
              "#7201a8"
             ],
             [
              0.3333333333333333,
              "#9c179e"
             ],
             [
              0.4444444444444444,
              "#bd3786"
             ],
             [
              0.5555555555555556,
              "#d8576b"
             ],
             [
              0.6666666666666666,
              "#ed7953"
             ],
             [
              0.7777777777777778,
              "#fb9f3a"
             ],
             [
              0.8888888888888888,
              "#fdca26"
             ],
             [
              1,
              "#f0f921"
             ]
            ],
            "type": "surface"
           }
          ],
          "table": [
           {
            "cells": {
             "fill": {
              "color": "#EBF0F8"
             },
             "line": {
              "color": "white"
             }
            },
            "header": {
             "fill": {
              "color": "#C8D4E3"
             },
             "line": {
              "color": "white"
             }
            },
            "type": "table"
           }
          ]
         },
         "layout": {
          "annotationdefaults": {
           "arrowcolor": "#2a3f5f",
           "arrowhead": 0,
           "arrowwidth": 1
          },
          "autotypenumbers": "strict",
          "coloraxis": {
           "colorbar": {
            "outlinewidth": 0,
            "ticks": ""
           }
          },
          "colorscale": {
           "diverging": [
            [
             0,
             "#8e0152"
            ],
            [
             0.1,
             "#c51b7d"
            ],
            [
             0.2,
             "#de77ae"
            ],
            [
             0.3,
             "#f1b6da"
            ],
            [
             0.4,
             "#fde0ef"
            ],
            [
             0.5,
             "#f7f7f7"
            ],
            [
             0.6,
             "#e6f5d0"
            ],
            [
             0.7,
             "#b8e186"
            ],
            [
             0.8,
             "#7fbc41"
            ],
            [
             0.9,
             "#4d9221"
            ],
            [
             1,
             "#276419"
            ]
           ],
           "sequential": [
            [
             0,
             "#0d0887"
            ],
            [
             0.1111111111111111,
             "#46039f"
            ],
            [
             0.2222222222222222,
             "#7201a8"
            ],
            [
             0.3333333333333333,
             "#9c179e"
            ],
            [
             0.4444444444444444,
             "#bd3786"
            ],
            [
             0.5555555555555556,
             "#d8576b"
            ],
            [
             0.6666666666666666,
             "#ed7953"
            ],
            [
             0.7777777777777778,
             "#fb9f3a"
            ],
            [
             0.8888888888888888,
             "#fdca26"
            ],
            [
             1,
             "#f0f921"
            ]
           ],
           "sequentialminus": [
            [
             0,
             "#0d0887"
            ],
            [
             0.1111111111111111,
             "#46039f"
            ],
            [
             0.2222222222222222,
             "#7201a8"
            ],
            [
             0.3333333333333333,
             "#9c179e"
            ],
            [
             0.4444444444444444,
             "#bd3786"
            ],
            [
             0.5555555555555556,
             "#d8576b"
            ],
            [
             0.6666666666666666,
             "#ed7953"
            ],
            [
             0.7777777777777778,
             "#fb9f3a"
            ],
            [
             0.8888888888888888,
             "#fdca26"
            ],
            [
             1,
             "#f0f921"
            ]
           ]
          },
          "colorway": [
           "#636efa",
           "#EF553B",
           "#00cc96",
           "#ab63fa",
           "#FFA15A",
           "#19d3f3",
           "#FF6692",
           "#B6E880",
           "#FF97FF",
           "#FECB52"
          ],
          "font": {
           "color": "#2a3f5f"
          },
          "geo": {
           "bgcolor": "white",
           "lakecolor": "white",
           "landcolor": "#E5ECF6",
           "showlakes": true,
           "showland": true,
           "subunitcolor": "white"
          },
          "hoverlabel": {
           "align": "left"
          },
          "hovermode": "closest",
          "mapbox": {
           "style": "light"
          },
          "paper_bgcolor": "white",
          "plot_bgcolor": "#E5ECF6",
          "polar": {
           "angularaxis": {
            "gridcolor": "white",
            "linecolor": "white",
            "ticks": ""
           },
           "bgcolor": "#E5ECF6",
           "radialaxis": {
            "gridcolor": "white",
            "linecolor": "white",
            "ticks": ""
           }
          },
          "scene": {
           "xaxis": {
            "backgroundcolor": "#E5ECF6",
            "gridcolor": "white",
            "gridwidth": 2,
            "linecolor": "white",
            "showbackground": true,
            "ticks": "",
            "zerolinecolor": "white"
           },
           "yaxis": {
            "backgroundcolor": "#E5ECF6",
            "gridcolor": "white",
            "gridwidth": 2,
            "linecolor": "white",
            "showbackground": true,
            "ticks": "",
            "zerolinecolor": "white"
           },
           "zaxis": {
            "backgroundcolor": "#E5ECF6",
            "gridcolor": "white",
            "gridwidth": 2,
            "linecolor": "white",
            "showbackground": true,
            "ticks": "",
            "zerolinecolor": "white"
           }
          },
          "shapedefaults": {
           "line": {
            "color": "#2a3f5f"
           }
          },
          "ternary": {
           "aaxis": {
            "gridcolor": "white",
            "linecolor": "white",
            "ticks": ""
           },
           "baxis": {
            "gridcolor": "white",
            "linecolor": "white",
            "ticks": ""
           },
           "bgcolor": "#E5ECF6",
           "caxis": {
            "gridcolor": "white",
            "linecolor": "white",
            "ticks": ""
           }
          },
          "title": {
           "x": 0.05
          },
          "xaxis": {
           "automargin": true,
           "gridcolor": "white",
           "linecolor": "white",
           "ticks": "",
           "title": {
            "standoff": 15
           },
           "zerolinecolor": "white",
           "zerolinewidth": 2
          },
          "yaxis": {
           "automargin": true,
           "gridcolor": "white",
           "linecolor": "white",
           "ticks": "",
           "title": {
            "standoff": 15
           },
           "zerolinecolor": "white",
           "zerolinewidth": 2
          }
         }
        },
        "title": {
         "text": "Clinton Ads"
        },
        "width": 800,
        "xaxis": {
         "anchor": "y",
         "domain": [
          0,
          1
         ],
         "title": {
          "text": "State"
         }
        },
        "yaxis": {
         "anchor": "x",
         "domain": [
          0,
          1
         ],
         "range": [
          0,
          17000
         ],
         "title": {
          "text": "Ads"
         }
        }
       }
      }
     },
     "metadata": {},
     "output_type": "display_data"
    }
   ],
   "source": [
    "fig = px.bar(top_subjects_clinton[top_subjects_clinton.winning_candidate=='TRUMP, DONALD J.'],\n",
    "             x='state',\n",
    "             y='count',\n",
    "             color='subjects',\n",
    "             title='Clinton Ads',\n",
    "             labels={'state': 'State', 'count': 'Ad Counts', 'subjects': 'Subjects'},\n",
    "             width=800,\n",
    "             color_discrete_map=clinton_subjects)\n",
    "\n",
    "fig.update_layout(barmode='stack', xaxis_title='State', yaxis_title='Ads', legend_title='Subjects')\n",
    "fig.update_layout(yaxis=dict(range=[0,17000]))\n",
    "fig.show()"
   ]
  },
  {
   "cell_type": "code",
   "execution_count": 226,
   "metadata": {},
   "outputs": [
    {
     "data": {
      "application/vnd.plotly.v1+json": {
       "config": {
        "plotlyServerURL": "https://plot.ly"
       },
       "data": [
        {
         "alignmentgroup": "True",
         "hovertemplate": "Subjects=Candidate Biography<br>State=%{x}<br>Ad Counts=%{y}<extra></extra>",
         "legendgroup": "Candidate Biography",
         "marker": {
          "color": "#845ec2",
          "pattern": {
           "shape": ""
          }
         },
         "name": "Candidate Biography",
         "offsetgroup": "Candidate Biography",
         "orientation": "v",
         "showlegend": true,
         "textposition": "auto",
         "type": "bar",
         "x": [
          "California",
          "Colorado",
          "Maryland",
          "Nevada",
          "New Hampshire",
          "New York"
         ],
         "xaxis": "x",
         "y": [
          2551,
          1494,
          500,
          3808,
          1741,
          24
         ],
         "yaxis": "y"
        },
        {
         "alignmentgroup": "True",
         "hovertemplate": "Subjects=Immigration<br>State=%{x}<br>Ad Counts=%{y}<extra></extra>",
         "legendgroup": "Immigration",
         "marker": {
          "color": "#0089ba",
          "pattern": {
           "shape": ""
          }
         },
         "name": "Immigration",
         "offsetgroup": "Immigration",
         "orientation": "v",
         "showlegend": true,
         "textposition": "auto",
         "type": "bar",
         "x": [
          "California",
          "New York",
          "Virginia"
         ],
         "xaxis": "x",
         "y": [
          2848,
          22,
          2
         ],
         "yaxis": "y"
        },
        {
         "alignmentgroup": "True",
         "hovertemplate": "Subjects=Military<br>State=%{x}<br>Ad Counts=%{y}<extra></extra>",
         "legendgroup": "Military",
         "marker": {
          "color": "#c34a36",
          "pattern": {
           "shape": ""
          }
         },
         "name": "Military",
         "offsetgroup": "Military",
         "orientation": "v",
         "showlegend": true,
         "textposition": "auto",
         "type": "bar",
         "x": [
          "California",
          "Nevada",
          "New Hampshire"
         ],
         "xaxis": "x",
         "y": [
          1093,
          1560,
          1092
         ],
         "yaxis": "y"
        },
        {
         "alignmentgroup": "True",
         "hovertemplate": "Subjects=Children<br>State=%{x}<br>Ad Counts=%{y}<extra></extra>",
         "legendgroup": "Children",
         "marker": {
          "color": "#d65db1",
          "pattern": {
           "shape": ""
          }
         },
         "name": "Children",
         "offsetgroup": "Children",
         "orientation": "v",
         "showlegend": true,
         "textposition": "auto",
         "type": "bar",
         "x": [
          "Colorado",
          "Maryland",
          "New Hampshire"
         ],
         "xaxis": "x",
         "y": [
          1041,
          299,
          926
         ],
         "yaxis": "y"
        },
        {
         "alignmentgroup": "True",
         "hovertemplate": "Subjects=Disability<br>State=%{x}<br>Ad Counts=%{y}<extra></extra>",
         "legendgroup": "Disability",
         "marker": {
          "color": "#fefedf",
          "pattern": {
           "shape": ""
          }
         },
         "name": "Disability",
         "offsetgroup": "Disability",
         "orientation": "v",
         "showlegend": true,
         "textposition": "auto",
         "type": "bar",
         "x": [
          "Colorado"
         ],
         "xaxis": "x",
         "y": [
          776
         ],
         "yaxis": "y"
        },
        {
         "alignmentgroup": "True",
         "hovertemplate": "Subjects=Terrorism<br>State=%{x}<br>Ad Counts=%{y}<extra></extra>",
         "legendgroup": "Terrorism",
         "marker": {
          "color": "#d3e9f3",
          "pattern": {
           "shape": ""
          }
         },
         "name": "Terrorism",
         "offsetgroup": "Terrorism",
         "orientation": "v",
         "showlegend": true,
         "textposition": "auto",
         "type": "bar",
         "x": [
          "Maryland"
         ],
         "xaxis": "x",
         "y": [
          228
         ],
         "yaxis": "y"
        },
        {
         "alignmentgroup": "True",
         "hovertemplate": "Subjects=Women<br>State=%{x}<br>Ad Counts=%{y}<extra></extra>",
         "legendgroup": "Women",
         "marker": {
          "color": "#4ffbdf",
          "pattern": {
           "shape": ""
          }
         },
         "name": "Women",
         "offsetgroup": "Women",
         "orientation": "v",
         "showlegend": true,
         "textposition": "auto",
         "type": "bar",
         "x": [
          "Nevada"
         ],
         "xaxis": "x",
         "y": [
          1634
         ],
         "yaxis": "y"
        },
        {
         "alignmentgroup": "True",
         "hovertemplate": "Subjects=Jobs<br>State=%{x}<br>Ad Counts=%{y}<extra></extra>",
         "legendgroup": "Jobs",
         "marker": {
          "color": "#fbeaff",
          "pattern": {
           "shape": ""
          }
         },
         "name": "Jobs",
         "offsetgroup": "Jobs",
         "orientation": "v",
         "showlegend": true,
         "textposition": "auto",
         "type": "bar",
         "x": [
          "New York"
         ],
         "xaxis": "x",
         "y": [
          21
         ],
         "yaxis": "y"
        }
       ],
       "layout": {
        "barmode": "stack",
        "legend": {
         "title": {
          "text": "Subjects"
         },
         "tracegroupgap": 0
        },
        "template": {
         "data": {
          "bar": [
           {
            "error_x": {
             "color": "#2a3f5f"
            },
            "error_y": {
             "color": "#2a3f5f"
            },
            "marker": {
             "line": {
              "color": "#E5ECF6",
              "width": 0.5
             },
             "pattern": {
              "fillmode": "overlay",
              "size": 10,
              "solidity": 0.2
             }
            },
            "type": "bar"
           }
          ],
          "barpolar": [
           {
            "marker": {
             "line": {
              "color": "#E5ECF6",
              "width": 0.5
             },
             "pattern": {
              "fillmode": "overlay",
              "size": 10,
              "solidity": 0.2
             }
            },
            "type": "barpolar"
           }
          ],
          "carpet": [
           {
            "aaxis": {
             "endlinecolor": "#2a3f5f",
             "gridcolor": "white",
             "linecolor": "white",
             "minorgridcolor": "white",
             "startlinecolor": "#2a3f5f"
            },
            "baxis": {
             "endlinecolor": "#2a3f5f",
             "gridcolor": "white",
             "linecolor": "white",
             "minorgridcolor": "white",
             "startlinecolor": "#2a3f5f"
            },
            "type": "carpet"
           }
          ],
          "choropleth": [
           {
            "colorbar": {
             "outlinewidth": 0,
             "ticks": ""
            },
            "type": "choropleth"
           }
          ],
          "contour": [
           {
            "colorbar": {
             "outlinewidth": 0,
             "ticks": ""
            },
            "colorscale": [
             [
              0,
              "#0d0887"
             ],
             [
              0.1111111111111111,
              "#46039f"
             ],
             [
              0.2222222222222222,
              "#7201a8"
             ],
             [
              0.3333333333333333,
              "#9c179e"
             ],
             [
              0.4444444444444444,
              "#bd3786"
             ],
             [
              0.5555555555555556,
              "#d8576b"
             ],
             [
              0.6666666666666666,
              "#ed7953"
             ],
             [
              0.7777777777777778,
              "#fb9f3a"
             ],
             [
              0.8888888888888888,
              "#fdca26"
             ],
             [
              1,
              "#f0f921"
             ]
            ],
            "type": "contour"
           }
          ],
          "contourcarpet": [
           {
            "colorbar": {
             "outlinewidth": 0,
             "ticks": ""
            },
            "type": "contourcarpet"
           }
          ],
          "heatmap": [
           {
            "colorbar": {
             "outlinewidth": 0,
             "ticks": ""
            },
            "colorscale": [
             [
              0,
              "#0d0887"
             ],
             [
              0.1111111111111111,
              "#46039f"
             ],
             [
              0.2222222222222222,
              "#7201a8"
             ],
             [
              0.3333333333333333,
              "#9c179e"
             ],
             [
              0.4444444444444444,
              "#bd3786"
             ],
             [
              0.5555555555555556,
              "#d8576b"
             ],
             [
              0.6666666666666666,
              "#ed7953"
             ],
             [
              0.7777777777777778,
              "#fb9f3a"
             ],
             [
              0.8888888888888888,
              "#fdca26"
             ],
             [
              1,
              "#f0f921"
             ]
            ],
            "type": "heatmap"
           }
          ],
          "heatmapgl": [
           {
            "colorbar": {
             "outlinewidth": 0,
             "ticks": ""
            },
            "colorscale": [
             [
              0,
              "#0d0887"
             ],
             [
              0.1111111111111111,
              "#46039f"
             ],
             [
              0.2222222222222222,
              "#7201a8"
             ],
             [
              0.3333333333333333,
              "#9c179e"
             ],
             [
              0.4444444444444444,
              "#bd3786"
             ],
             [
              0.5555555555555556,
              "#d8576b"
             ],
             [
              0.6666666666666666,
              "#ed7953"
             ],
             [
              0.7777777777777778,
              "#fb9f3a"
             ],
             [
              0.8888888888888888,
              "#fdca26"
             ],
             [
              1,
              "#f0f921"
             ]
            ],
            "type": "heatmapgl"
           }
          ],
          "histogram": [
           {
            "marker": {
             "pattern": {
              "fillmode": "overlay",
              "size": 10,
              "solidity": 0.2
             }
            },
            "type": "histogram"
           }
          ],
          "histogram2d": [
           {
            "colorbar": {
             "outlinewidth": 0,
             "ticks": ""
            },
            "colorscale": [
             [
              0,
              "#0d0887"
             ],
             [
              0.1111111111111111,
              "#46039f"
             ],
             [
              0.2222222222222222,
              "#7201a8"
             ],
             [
              0.3333333333333333,
              "#9c179e"
             ],
             [
              0.4444444444444444,
              "#bd3786"
             ],
             [
              0.5555555555555556,
              "#d8576b"
             ],
             [
              0.6666666666666666,
              "#ed7953"
             ],
             [
              0.7777777777777778,
              "#fb9f3a"
             ],
             [
              0.8888888888888888,
              "#fdca26"
             ],
             [
              1,
              "#f0f921"
             ]
            ],
            "type": "histogram2d"
           }
          ],
          "histogram2dcontour": [
           {
            "colorbar": {
             "outlinewidth": 0,
             "ticks": ""
            },
            "colorscale": [
             [
              0,
              "#0d0887"
             ],
             [
              0.1111111111111111,
              "#46039f"
             ],
             [
              0.2222222222222222,
              "#7201a8"
             ],
             [
              0.3333333333333333,
              "#9c179e"
             ],
             [
              0.4444444444444444,
              "#bd3786"
             ],
             [
              0.5555555555555556,
              "#d8576b"
             ],
             [
              0.6666666666666666,
              "#ed7953"
             ],
             [
              0.7777777777777778,
              "#fb9f3a"
             ],
             [
              0.8888888888888888,
              "#fdca26"
             ],
             [
              1,
              "#f0f921"
             ]
            ],
            "type": "histogram2dcontour"
           }
          ],
          "mesh3d": [
           {
            "colorbar": {
             "outlinewidth": 0,
             "ticks": ""
            },
            "type": "mesh3d"
           }
          ],
          "parcoords": [
           {
            "line": {
             "colorbar": {
              "outlinewidth": 0,
              "ticks": ""
             }
            },
            "type": "parcoords"
           }
          ],
          "pie": [
           {
            "automargin": true,
            "type": "pie"
           }
          ],
          "scatter": [
           {
            "fillpattern": {
             "fillmode": "overlay",
             "size": 10,
             "solidity": 0.2
            },
            "type": "scatter"
           }
          ],
          "scatter3d": [
           {
            "line": {
             "colorbar": {
              "outlinewidth": 0,
              "ticks": ""
             }
            },
            "marker": {
             "colorbar": {
              "outlinewidth": 0,
              "ticks": ""
             }
            },
            "type": "scatter3d"
           }
          ],
          "scattercarpet": [
           {
            "marker": {
             "colorbar": {
              "outlinewidth": 0,
              "ticks": ""
             }
            },
            "type": "scattercarpet"
           }
          ],
          "scattergeo": [
           {
            "marker": {
             "colorbar": {
              "outlinewidth": 0,
              "ticks": ""
             }
            },
            "type": "scattergeo"
           }
          ],
          "scattergl": [
           {
            "marker": {
             "colorbar": {
              "outlinewidth": 0,
              "ticks": ""
             }
            },
            "type": "scattergl"
           }
          ],
          "scattermapbox": [
           {
            "marker": {
             "colorbar": {
              "outlinewidth": 0,
              "ticks": ""
             }
            },
            "type": "scattermapbox"
           }
          ],
          "scatterpolar": [
           {
            "marker": {
             "colorbar": {
              "outlinewidth": 0,
              "ticks": ""
             }
            },
            "type": "scatterpolar"
           }
          ],
          "scatterpolargl": [
           {
            "marker": {
             "colorbar": {
              "outlinewidth": 0,
              "ticks": ""
             }
            },
            "type": "scatterpolargl"
           }
          ],
          "scatterternary": [
           {
            "marker": {
             "colorbar": {
              "outlinewidth": 0,
              "ticks": ""
             }
            },
            "type": "scatterternary"
           }
          ],
          "surface": [
           {
            "colorbar": {
             "outlinewidth": 0,
             "ticks": ""
            },
            "colorscale": [
             [
              0,
              "#0d0887"
             ],
             [
              0.1111111111111111,
              "#46039f"
             ],
             [
              0.2222222222222222,
              "#7201a8"
             ],
             [
              0.3333333333333333,
              "#9c179e"
             ],
             [
              0.4444444444444444,
              "#bd3786"
             ],
             [
              0.5555555555555556,
              "#d8576b"
             ],
             [
              0.6666666666666666,
              "#ed7953"
             ],
             [
              0.7777777777777778,
              "#fb9f3a"
             ],
             [
              0.8888888888888888,
              "#fdca26"
             ],
             [
              1,
              "#f0f921"
             ]
            ],
            "type": "surface"
           }
          ],
          "table": [
           {
            "cells": {
             "fill": {
              "color": "#EBF0F8"
             },
             "line": {
              "color": "white"
             }
            },
            "header": {
             "fill": {
              "color": "#C8D4E3"
             },
             "line": {
              "color": "white"
             }
            },
            "type": "table"
           }
          ]
         },
         "layout": {
          "annotationdefaults": {
           "arrowcolor": "#2a3f5f",
           "arrowhead": 0,
           "arrowwidth": 1
          },
          "autotypenumbers": "strict",
          "coloraxis": {
           "colorbar": {
            "outlinewidth": 0,
            "ticks": ""
           }
          },
          "colorscale": {
           "diverging": [
            [
             0,
             "#8e0152"
            ],
            [
             0.1,
             "#c51b7d"
            ],
            [
             0.2,
             "#de77ae"
            ],
            [
             0.3,
             "#f1b6da"
            ],
            [
             0.4,
             "#fde0ef"
            ],
            [
             0.5,
             "#f7f7f7"
            ],
            [
             0.6,
             "#e6f5d0"
            ],
            [
             0.7,
             "#b8e186"
            ],
            [
             0.8,
             "#7fbc41"
            ],
            [
             0.9,
             "#4d9221"
            ],
            [
             1,
             "#276419"
            ]
           ],
           "sequential": [
            [
             0,
             "#0d0887"
            ],
            [
             0.1111111111111111,
             "#46039f"
            ],
            [
             0.2222222222222222,
             "#7201a8"
            ],
            [
             0.3333333333333333,
             "#9c179e"
            ],
            [
             0.4444444444444444,
             "#bd3786"
            ],
            [
             0.5555555555555556,
             "#d8576b"
            ],
            [
             0.6666666666666666,
             "#ed7953"
            ],
            [
             0.7777777777777778,
             "#fb9f3a"
            ],
            [
             0.8888888888888888,
             "#fdca26"
            ],
            [
             1,
             "#f0f921"
            ]
           ],
           "sequentialminus": [
            [
             0,
             "#0d0887"
            ],
            [
             0.1111111111111111,
             "#46039f"
            ],
            [
             0.2222222222222222,
             "#7201a8"
            ],
            [
             0.3333333333333333,
             "#9c179e"
            ],
            [
             0.4444444444444444,
             "#bd3786"
            ],
            [
             0.5555555555555556,
             "#d8576b"
            ],
            [
             0.6666666666666666,
             "#ed7953"
            ],
            [
             0.7777777777777778,
             "#fb9f3a"
            ],
            [
             0.8888888888888888,
             "#fdca26"
            ],
            [
             1,
             "#f0f921"
            ]
           ]
          },
          "colorway": [
           "#636efa",
           "#EF553B",
           "#00cc96",
           "#ab63fa",
           "#FFA15A",
           "#19d3f3",
           "#FF6692",
           "#B6E880",
           "#FF97FF",
           "#FECB52"
          ],
          "font": {
           "color": "#2a3f5f"
          },
          "geo": {
           "bgcolor": "white",
           "lakecolor": "white",
           "landcolor": "#E5ECF6",
           "showlakes": true,
           "showland": true,
           "subunitcolor": "white"
          },
          "hoverlabel": {
           "align": "left"
          },
          "hovermode": "closest",
          "mapbox": {
           "style": "light"
          },
          "paper_bgcolor": "white",
          "plot_bgcolor": "#E5ECF6",
          "polar": {
           "angularaxis": {
            "gridcolor": "white",
            "linecolor": "white",
            "ticks": ""
           },
           "bgcolor": "#E5ECF6",
           "radialaxis": {
            "gridcolor": "white",
            "linecolor": "white",
            "ticks": ""
           }
          },
          "scene": {
           "xaxis": {
            "backgroundcolor": "#E5ECF6",
            "gridcolor": "white",
            "gridwidth": 2,
            "linecolor": "white",
            "showbackground": true,
            "ticks": "",
            "zerolinecolor": "white"
           },
           "yaxis": {
            "backgroundcolor": "#E5ECF6",
            "gridcolor": "white",
            "gridwidth": 2,
            "linecolor": "white",
            "showbackground": true,
            "ticks": "",
            "zerolinecolor": "white"
           },
           "zaxis": {
            "backgroundcolor": "#E5ECF6",
            "gridcolor": "white",
            "gridwidth": 2,
            "linecolor": "white",
            "showbackground": true,
            "ticks": "",
            "zerolinecolor": "white"
           }
          },
          "shapedefaults": {
           "line": {
            "color": "#2a3f5f"
           }
          },
          "ternary": {
           "aaxis": {
            "gridcolor": "white",
            "linecolor": "white",
            "ticks": ""
           },
           "baxis": {
            "gridcolor": "white",
            "linecolor": "white",
            "ticks": ""
           },
           "bgcolor": "#E5ECF6",
           "caxis": {
            "gridcolor": "white",
            "linecolor": "white",
            "ticks": ""
           }
          },
          "title": {
           "x": 0.05
          },
          "xaxis": {
           "automargin": true,
           "gridcolor": "white",
           "linecolor": "white",
           "ticks": "",
           "title": {
            "standoff": 15
           },
           "zerolinecolor": "white",
           "zerolinewidth": 2
          },
          "yaxis": {
           "automargin": true,
           "gridcolor": "white",
           "linecolor": "white",
           "ticks": "",
           "title": {
            "standoff": 15
           },
           "zerolinecolor": "white",
           "zerolinewidth": 2
          }
         }
        },
        "title": {
         "text": "Trump Ads"
        },
        "width": 800,
        "xaxis": {
         "anchor": "y",
         "domain": [
          0,
          1
         ],
         "title": {
          "text": "State"
         }
        },
        "yaxis": {
         "anchor": "x",
         "domain": [
          0,
          1
         ],
         "range": [
          0,
          10000
         ],
         "title": {
          "text": "Ads Count"
         }
        }
       }
      }
     },
     "metadata": {},
     "output_type": "display_data"
    }
   ],
   "source": [
    "fig = px.bar(top_subjects_trump[top_subjects_trump.winning_candidate=='CLINTON, HILLARY'].sort_values(by=[\"state\",\"subjects\"]),\n",
    "             x='state',\n",
    "             y='count',\n",
    "             color='subjects',\n",
    "             title='Trump Ads',\n",
    "             labels={'state': 'State', 'count': 'Ad Counts', 'subjects': 'Subjects'},\n",
    "             color_discrete_map=trump_subjects,\n",
    "             width=800,\n",
    "             )\n",
    "\n",
    "fig.update_layout(barmode='stack', xaxis_title='State', yaxis_title='Ads Count', legend_title='Subjects')\n",
    "fig.update_layout(yaxis=dict(range=[0,10000]))\n",
    "fig.show()"
   ]
  },
  {
   "cell_type": "code",
   "execution_count": 228,
   "metadata": {},
   "outputs": [
    {
     "data": {
      "application/vnd.plotly.v1+json": {
       "config": {
        "plotlyServerURL": "https://plot.ly"
       },
       "data": [
        {
         "alignmentgroup": "True",
         "hovertemplate": "Subjects=Candidate Biography<br>State=%{x}<br>Ad Counts=%{y}<extra></extra>",
         "legendgroup": "Candidate Biography",
         "marker": {
          "color": "#845ec2",
          "pattern": {
           "shape": ""
          }
         },
         "name": "Candidate Biography",
         "offsetgroup": "Candidate Biography",
         "orientation": "v",
         "showlegend": true,
         "textposition": "auto",
         "type": "bar",
         "x": [
          "California",
          "Colorado",
          "Maryland",
          "New Hampshire"
         ],
         "xaxis": "x",
         "y": [
          2389,
          1318,
          202,
          1297
         ],
         "yaxis": "y"
        },
        {
         "alignmentgroup": "True",
         "hovertemplate": "Subjects=Children<br>State=%{x}<br>Ad Counts=%{y}<extra></extra>",
         "legendgroup": "Children",
         "marker": {
          "color": "#d65db1",
          "pattern": {
           "shape": ""
          }
         },
         "name": "Children",
         "offsetgroup": "Children",
         "orientation": "v",
         "showlegend": true,
         "textposition": "auto",
         "type": "bar",
         "x": [
          "California"
         ],
         "xaxis": "x",
         "y": [
          543
         ],
         "yaxis": "y"
        },
        {
         "alignmentgroup": "True",
         "hovertemplate": "Subjects=Women<br>State=%{x}<br>Ad Counts=%{y}<extra></extra>",
         "legendgroup": "Women",
         "marker": {
          "color": "#4ffbdf",
          "pattern": {
           "shape": ""
          }
         },
         "name": "Women",
         "offsetgroup": "Women",
         "orientation": "v",
         "showlegend": true,
         "textposition": "auto",
         "type": "bar",
         "x": [
          "California",
          "Nevada",
          "Virginia"
         ],
         "xaxis": "x",
         "y": [
          480,
          3572,
          176
         ],
         "yaxis": "y"
        },
        {
         "alignmentgroup": "True",
         "hovertemplate": "Subjects=Nuclear<br>State=%{x}<br>Ad Counts=%{y}<extra></extra>",
         "legendgroup": "Nuclear",
         "marker": {
          "color": "#fbeaff",
          "pattern": {
           "shape": ""
          }
         },
         "name": "Nuclear",
         "offsetgroup": "Nuclear",
         "orientation": "v",
         "showlegend": true,
         "textposition": "auto",
         "type": "bar",
         "x": [
          "Colorado"
         ],
         "xaxis": "x",
         "y": [
          882
         ],
         "yaxis": "y"
        },
        {
         "alignmentgroup": "True",
         "hovertemplate": "Subjects=Terrorism<br>State=%{x}<br>Ad Counts=%{y}<extra></extra>",
         "legendgroup": "Terrorism",
         "marker": {
          "color": "#d3e9f3",
          "pattern": {
           "shape": ""
          }
         },
         "name": "Terrorism",
         "offsetgroup": "Terrorism",
         "orientation": "v",
         "showlegend": true,
         "textposition": "auto",
         "type": "bar",
         "x": [
          "Colorado"
         ],
         "xaxis": "x",
         "y": [
          601
         ],
         "yaxis": "y"
        },
        {
         "alignmentgroup": "True",
         "hovertemplate": "Subjects=Foreign Policy<br>State=%{x}<br>Ad Counts=%{y}<extra></extra>",
         "legendgroup": "Foreign Policy",
         "marker": {
          "color": "#ffc75f",
          "pattern": {
           "shape": ""
          }
         },
         "name": "Foreign Policy",
         "offsetgroup": "Foreign Policy",
         "orientation": "v",
         "showlegend": true,
         "textposition": "auto",
         "type": "bar",
         "x": [
          "Maryland"
         ],
         "xaxis": "x",
         "y": [
          68
         ],
         "yaxis": "y"
        },
        {
         "alignmentgroup": "True",
         "hovertemplate": "Subjects=Legal Issues<br>State=%{x}<br>Ad Counts=%{y}<extra></extra>",
         "legendgroup": "Legal Issues",
         "marker": {
          "color": "#fbeaff",
          "pattern": {
           "shape": ""
          }
         },
         "name": "Legal Issues",
         "offsetgroup": "Legal Issues",
         "orientation": "v",
         "showlegend": true,
         "textposition": "auto",
         "type": "bar",
         "x": [
          "Maryland"
         ],
         "xaxis": "x",
         "y": [
          92
         ],
         "yaxis": "y"
        },
        {
         "alignmentgroup": "True",
         "hovertemplate": "Subjects=Economy<br>State=%{x}<br>Ad Counts=%{y}<extra></extra>",
         "legendgroup": "Economy",
         "marker": {
          "color": "#ff9671",
          "pattern": {
           "shape": ""
          }
         },
         "name": "Economy",
         "offsetgroup": "Economy",
         "orientation": "v",
         "showlegend": true,
         "textposition": "auto",
         "type": "bar",
         "x": [
          "Nevada",
          "New Hampshire",
          "New York"
         ],
         "xaxis": "x",
         "y": [
          3219,
          1380,
          282
         ],
         "yaxis": "y"
        },
        {
         "alignmentgroup": "True",
         "hovertemplate": "Subjects=Health Care<br>State=%{x}<br>Ad Counts=%{y}<extra></extra>",
         "legendgroup": "Health Care",
         "marker": {
          "color": "#f9f871",
          "pattern": {
           "shape": ""
          }
         },
         "name": "Health Care",
         "offsetgroup": "Health Care",
         "orientation": "v",
         "showlegend": true,
         "textposition": "auto",
         "type": "bar",
         "x": [
          "Nevada",
          "New Hampshire",
          "Virginia"
         ],
         "xaxis": "x",
         "y": [
          3046,
          1791,
          176
         ],
         "yaxis": "y"
        },
        {
         "alignmentgroup": "True",
         "hovertemplate": "Subjects=Jobs<br>State=%{x}<br>Ad Counts=%{y}<extra></extra>",
         "legendgroup": "Jobs",
         "marker": {
          "color": "#fbeaff",
          "pattern": {
           "shape": ""
          }
         },
         "name": "Jobs",
         "offsetgroup": "Jobs",
         "orientation": "v",
         "showlegend": true,
         "textposition": "auto",
         "type": "bar",
         "x": [
          "New York"
         ],
         "xaxis": "x",
         "y": [
          271
         ],
         "yaxis": "y"
        },
        {
         "alignmentgroup": "True",
         "hovertemplate": "Subjects=Taxes<br>State=%{x}<br>Ad Counts=%{y}<extra></extra>",
         "legendgroup": "Taxes",
         "marker": {
          "color": "#2184a0",
          "pattern": {
           "shape": ""
          }
         },
         "name": "Taxes",
         "offsetgroup": "Taxes",
         "orientation": "v",
         "showlegend": true,
         "textposition": "auto",
         "type": "bar",
         "x": [
          "New York"
         ],
         "xaxis": "x",
         "y": [
          271
         ],
         "yaxis": "y"
        },
        {
         "alignmentgroup": "True",
         "hovertemplate": "Subjects=Social Security<br>State=%{x}<br>Ad Counts=%{y}<extra></extra>",
         "legendgroup": "Social Security",
         "marker": {
          "color": "#fefedf",
          "pattern": {
           "shape": ""
          }
         },
         "name": "Social Security",
         "offsetgroup": "Social Security",
         "orientation": "v",
         "showlegend": true,
         "textposition": "auto",
         "type": "bar",
         "x": [
          "Virginia"
         ],
         "xaxis": "x",
         "y": [
          176
         ],
         "yaxis": "y"
        }
       ],
       "layout": {
        "barmode": "stack",
        "legend": {
         "title": {
          "text": "Subjects"
         },
         "tracegroupgap": 0
        },
        "template": {
         "data": {
          "bar": [
           {
            "error_x": {
             "color": "#2a3f5f"
            },
            "error_y": {
             "color": "#2a3f5f"
            },
            "marker": {
             "line": {
              "color": "#E5ECF6",
              "width": 0.5
             },
             "pattern": {
              "fillmode": "overlay",
              "size": 10,
              "solidity": 0.2
             }
            },
            "type": "bar"
           }
          ],
          "barpolar": [
           {
            "marker": {
             "line": {
              "color": "#E5ECF6",
              "width": 0.5
             },
             "pattern": {
              "fillmode": "overlay",
              "size": 10,
              "solidity": 0.2
             }
            },
            "type": "barpolar"
           }
          ],
          "carpet": [
           {
            "aaxis": {
             "endlinecolor": "#2a3f5f",
             "gridcolor": "white",
             "linecolor": "white",
             "minorgridcolor": "white",
             "startlinecolor": "#2a3f5f"
            },
            "baxis": {
             "endlinecolor": "#2a3f5f",
             "gridcolor": "white",
             "linecolor": "white",
             "minorgridcolor": "white",
             "startlinecolor": "#2a3f5f"
            },
            "type": "carpet"
           }
          ],
          "choropleth": [
           {
            "colorbar": {
             "outlinewidth": 0,
             "ticks": ""
            },
            "type": "choropleth"
           }
          ],
          "contour": [
           {
            "colorbar": {
             "outlinewidth": 0,
             "ticks": ""
            },
            "colorscale": [
             [
              0,
              "#0d0887"
             ],
             [
              0.1111111111111111,
              "#46039f"
             ],
             [
              0.2222222222222222,
              "#7201a8"
             ],
             [
              0.3333333333333333,
              "#9c179e"
             ],
             [
              0.4444444444444444,
              "#bd3786"
             ],
             [
              0.5555555555555556,
              "#d8576b"
             ],
             [
              0.6666666666666666,
              "#ed7953"
             ],
             [
              0.7777777777777778,
              "#fb9f3a"
             ],
             [
              0.8888888888888888,
              "#fdca26"
             ],
             [
              1,
              "#f0f921"
             ]
            ],
            "type": "contour"
           }
          ],
          "contourcarpet": [
           {
            "colorbar": {
             "outlinewidth": 0,
             "ticks": ""
            },
            "type": "contourcarpet"
           }
          ],
          "heatmap": [
           {
            "colorbar": {
             "outlinewidth": 0,
             "ticks": ""
            },
            "colorscale": [
             [
              0,
              "#0d0887"
             ],
             [
              0.1111111111111111,
              "#46039f"
             ],
             [
              0.2222222222222222,
              "#7201a8"
             ],
             [
              0.3333333333333333,
              "#9c179e"
             ],
             [
              0.4444444444444444,
              "#bd3786"
             ],
             [
              0.5555555555555556,
              "#d8576b"
             ],
             [
              0.6666666666666666,
              "#ed7953"
             ],
             [
              0.7777777777777778,
              "#fb9f3a"
             ],
             [
              0.8888888888888888,
              "#fdca26"
             ],
             [
              1,
              "#f0f921"
             ]
            ],
            "type": "heatmap"
           }
          ],
          "heatmapgl": [
           {
            "colorbar": {
             "outlinewidth": 0,
             "ticks": ""
            },
            "colorscale": [
             [
              0,
              "#0d0887"
             ],
             [
              0.1111111111111111,
              "#46039f"
             ],
             [
              0.2222222222222222,
              "#7201a8"
             ],
             [
              0.3333333333333333,
              "#9c179e"
             ],
             [
              0.4444444444444444,
              "#bd3786"
             ],
             [
              0.5555555555555556,
              "#d8576b"
             ],
             [
              0.6666666666666666,
              "#ed7953"
             ],
             [
              0.7777777777777778,
              "#fb9f3a"
             ],
             [
              0.8888888888888888,
              "#fdca26"
             ],
             [
              1,
              "#f0f921"
             ]
            ],
            "type": "heatmapgl"
           }
          ],
          "histogram": [
           {
            "marker": {
             "pattern": {
              "fillmode": "overlay",
              "size": 10,
              "solidity": 0.2
             }
            },
            "type": "histogram"
           }
          ],
          "histogram2d": [
           {
            "colorbar": {
             "outlinewidth": 0,
             "ticks": ""
            },
            "colorscale": [
             [
              0,
              "#0d0887"
             ],
             [
              0.1111111111111111,
              "#46039f"
             ],
             [
              0.2222222222222222,
              "#7201a8"
             ],
             [
              0.3333333333333333,
              "#9c179e"
             ],
             [
              0.4444444444444444,
              "#bd3786"
             ],
             [
              0.5555555555555556,
              "#d8576b"
             ],
             [
              0.6666666666666666,
              "#ed7953"
             ],
             [
              0.7777777777777778,
              "#fb9f3a"
             ],
             [
              0.8888888888888888,
              "#fdca26"
             ],
             [
              1,
              "#f0f921"
             ]
            ],
            "type": "histogram2d"
           }
          ],
          "histogram2dcontour": [
           {
            "colorbar": {
             "outlinewidth": 0,
             "ticks": ""
            },
            "colorscale": [
             [
              0,
              "#0d0887"
             ],
             [
              0.1111111111111111,
              "#46039f"
             ],
             [
              0.2222222222222222,
              "#7201a8"
             ],
             [
              0.3333333333333333,
              "#9c179e"
             ],
             [
              0.4444444444444444,
              "#bd3786"
             ],
             [
              0.5555555555555556,
              "#d8576b"
             ],
             [
              0.6666666666666666,
              "#ed7953"
             ],
             [
              0.7777777777777778,
              "#fb9f3a"
             ],
             [
              0.8888888888888888,
              "#fdca26"
             ],
             [
              1,
              "#f0f921"
             ]
            ],
            "type": "histogram2dcontour"
           }
          ],
          "mesh3d": [
           {
            "colorbar": {
             "outlinewidth": 0,
             "ticks": ""
            },
            "type": "mesh3d"
           }
          ],
          "parcoords": [
           {
            "line": {
             "colorbar": {
              "outlinewidth": 0,
              "ticks": ""
             }
            },
            "type": "parcoords"
           }
          ],
          "pie": [
           {
            "automargin": true,
            "type": "pie"
           }
          ],
          "scatter": [
           {
            "fillpattern": {
             "fillmode": "overlay",
             "size": 10,
             "solidity": 0.2
            },
            "type": "scatter"
           }
          ],
          "scatter3d": [
           {
            "line": {
             "colorbar": {
              "outlinewidth": 0,
              "ticks": ""
             }
            },
            "marker": {
             "colorbar": {
              "outlinewidth": 0,
              "ticks": ""
             }
            },
            "type": "scatter3d"
           }
          ],
          "scattercarpet": [
           {
            "marker": {
             "colorbar": {
              "outlinewidth": 0,
              "ticks": ""
             }
            },
            "type": "scattercarpet"
           }
          ],
          "scattergeo": [
           {
            "marker": {
             "colorbar": {
              "outlinewidth": 0,
              "ticks": ""
             }
            },
            "type": "scattergeo"
           }
          ],
          "scattergl": [
           {
            "marker": {
             "colorbar": {
              "outlinewidth": 0,
              "ticks": ""
             }
            },
            "type": "scattergl"
           }
          ],
          "scattermapbox": [
           {
            "marker": {
             "colorbar": {
              "outlinewidth": 0,
              "ticks": ""
             }
            },
            "type": "scattermapbox"
           }
          ],
          "scatterpolar": [
           {
            "marker": {
             "colorbar": {
              "outlinewidth": 0,
              "ticks": ""
             }
            },
            "type": "scatterpolar"
           }
          ],
          "scatterpolargl": [
           {
            "marker": {
             "colorbar": {
              "outlinewidth": 0,
              "ticks": ""
             }
            },
            "type": "scatterpolargl"
           }
          ],
          "scatterternary": [
           {
            "marker": {
             "colorbar": {
              "outlinewidth": 0,
              "ticks": ""
             }
            },
            "type": "scatterternary"
           }
          ],
          "surface": [
           {
            "colorbar": {
             "outlinewidth": 0,
             "ticks": ""
            },
            "colorscale": [
             [
              0,
              "#0d0887"
             ],
             [
              0.1111111111111111,
              "#46039f"
             ],
             [
              0.2222222222222222,
              "#7201a8"
             ],
             [
              0.3333333333333333,
              "#9c179e"
             ],
             [
              0.4444444444444444,
              "#bd3786"
             ],
             [
              0.5555555555555556,
              "#d8576b"
             ],
             [
              0.6666666666666666,
              "#ed7953"
             ],
             [
              0.7777777777777778,
              "#fb9f3a"
             ],
             [
              0.8888888888888888,
              "#fdca26"
             ],
             [
              1,
              "#f0f921"
             ]
            ],
            "type": "surface"
           }
          ],
          "table": [
           {
            "cells": {
             "fill": {
              "color": "#EBF0F8"
             },
             "line": {
              "color": "white"
             }
            },
            "header": {
             "fill": {
              "color": "#C8D4E3"
             },
             "line": {
              "color": "white"
             }
            },
            "type": "table"
           }
          ]
         },
         "layout": {
          "annotationdefaults": {
           "arrowcolor": "#2a3f5f",
           "arrowhead": 0,
           "arrowwidth": 1
          },
          "autotypenumbers": "strict",
          "coloraxis": {
           "colorbar": {
            "outlinewidth": 0,
            "ticks": ""
           }
          },
          "colorscale": {
           "diverging": [
            [
             0,
             "#8e0152"
            ],
            [
             0.1,
             "#c51b7d"
            ],
            [
             0.2,
             "#de77ae"
            ],
            [
             0.3,
             "#f1b6da"
            ],
            [
             0.4,
             "#fde0ef"
            ],
            [
             0.5,
             "#f7f7f7"
            ],
            [
             0.6,
             "#e6f5d0"
            ],
            [
             0.7,
             "#b8e186"
            ],
            [
             0.8,
             "#7fbc41"
            ],
            [
             0.9,
             "#4d9221"
            ],
            [
             1,
             "#276419"
            ]
           ],
           "sequential": [
            [
             0,
             "#0d0887"
            ],
            [
             0.1111111111111111,
             "#46039f"
            ],
            [
             0.2222222222222222,
             "#7201a8"
            ],
            [
             0.3333333333333333,
             "#9c179e"
            ],
            [
             0.4444444444444444,
             "#bd3786"
            ],
            [
             0.5555555555555556,
             "#d8576b"
            ],
            [
             0.6666666666666666,
             "#ed7953"
            ],
            [
             0.7777777777777778,
             "#fb9f3a"
            ],
            [
             0.8888888888888888,
             "#fdca26"
            ],
            [
             1,
             "#f0f921"
            ]
           ],
           "sequentialminus": [
            [
             0,
             "#0d0887"
            ],
            [
             0.1111111111111111,
             "#46039f"
            ],
            [
             0.2222222222222222,
             "#7201a8"
            ],
            [
             0.3333333333333333,
             "#9c179e"
            ],
            [
             0.4444444444444444,
             "#bd3786"
            ],
            [
             0.5555555555555556,
             "#d8576b"
            ],
            [
             0.6666666666666666,
             "#ed7953"
            ],
            [
             0.7777777777777778,
             "#fb9f3a"
            ],
            [
             0.8888888888888888,
             "#fdca26"
            ],
            [
             1,
             "#f0f921"
            ]
           ]
          },
          "colorway": [
           "#636efa",
           "#EF553B",
           "#00cc96",
           "#ab63fa",
           "#FFA15A",
           "#19d3f3",
           "#FF6692",
           "#B6E880",
           "#FF97FF",
           "#FECB52"
          ],
          "font": {
           "color": "#2a3f5f"
          },
          "geo": {
           "bgcolor": "white",
           "lakecolor": "white",
           "landcolor": "#E5ECF6",
           "showlakes": true,
           "showland": true,
           "subunitcolor": "white"
          },
          "hoverlabel": {
           "align": "left"
          },
          "hovermode": "closest",
          "mapbox": {
           "style": "light"
          },
          "paper_bgcolor": "white",
          "plot_bgcolor": "#E5ECF6",
          "polar": {
           "angularaxis": {
            "gridcolor": "white",
            "linecolor": "white",
            "ticks": ""
           },
           "bgcolor": "#E5ECF6",
           "radialaxis": {
            "gridcolor": "white",
            "linecolor": "white",
            "ticks": ""
           }
          },
          "scene": {
           "xaxis": {
            "backgroundcolor": "#E5ECF6",
            "gridcolor": "white",
            "gridwidth": 2,
            "linecolor": "white",
            "showbackground": true,
            "ticks": "",
            "zerolinecolor": "white"
           },
           "yaxis": {
            "backgroundcolor": "#E5ECF6",
            "gridcolor": "white",
            "gridwidth": 2,
            "linecolor": "white",
            "showbackground": true,
            "ticks": "",
            "zerolinecolor": "white"
           },
           "zaxis": {
            "backgroundcolor": "#E5ECF6",
            "gridcolor": "white",
            "gridwidth": 2,
            "linecolor": "white",
            "showbackground": true,
            "ticks": "",
            "zerolinecolor": "white"
           }
          },
          "shapedefaults": {
           "line": {
            "color": "#2a3f5f"
           }
          },
          "ternary": {
           "aaxis": {
            "gridcolor": "white",
            "linecolor": "white",
            "ticks": ""
           },
           "baxis": {
            "gridcolor": "white",
            "linecolor": "white",
            "ticks": ""
           },
           "bgcolor": "#E5ECF6",
           "caxis": {
            "gridcolor": "white",
            "linecolor": "white",
            "ticks": ""
           }
          },
          "title": {
           "x": 0.05
          },
          "xaxis": {
           "automargin": true,
           "gridcolor": "white",
           "linecolor": "white",
           "ticks": "",
           "title": {
            "standoff": 15
           },
           "zerolinecolor": "white",
           "zerolinewidth": 2
          },
          "yaxis": {
           "automargin": true,
           "gridcolor": "white",
           "linecolor": "white",
           "ticks": "",
           "title": {
            "standoff": 15
           },
           "zerolinecolor": "white",
           "zerolinewidth": 2
          }
         }
        },
        "title": {
         "text": "Clinton Ads"
        },
        "width": 800,
        "xaxis": {
         "anchor": "y",
         "domain": [
          0,
          1
         ],
         "title": {
          "text": "State"
         }
        },
        "yaxis": {
         "anchor": "x",
         "domain": [
          0,
          1
         ],
         "range": [
          1000,
          10000
         ],
         "title": {
          "text": "Ads Count"
         }
        }
       }
      }
     },
     "metadata": {},
     "output_type": "display_data"
    }
   ],
   "source": [
    "\n",
    "fig = px.bar(top_subjects_clinton[top_subjects_clinton.winning_candidate=='CLINTON, HILLARY'].sort_values(by=[\"state\",\"subjects\"]),\n",
    "             x='state',\n",
    "             y='count',\n",
    "             color='subjects',\n",
    "             title='Clinton Ads',\n",
    "             labels={'state': 'State', 'count': 'Ad Counts', 'subjects': 'Subjects'},\n",
    "             width=800,\n",
    "             color_discrete_map=clinton_subjects)\n",
    "\n",
    "fig.update_layout(barmode='stack', xaxis_title='State', yaxis_title='Ads Count', legend_title='Subjects')\n",
    "fig.update_layout(yaxis=dict(range=[1000,10000]))\n",
    "fig.show()"
   ]
  },
  {
   "cell_type": "markdown",
   "metadata": {},
   "source": [
    "# Tone"
   ]
  },
  {
   "cell_type": "code",
   "execution_count": 17,
   "metadata": {},
   "outputs": [],
   "source": [
    "clinton_ads = df[df.candidates.str.contains('Clinton', na=False)].groupby(['state','message']).size().unstack(fill_value=0)\n",
    "trump_ads = df[df.candidates.str.contains('Trump', na=False)].groupby(['state','message']).size().unstack(fill_value=0)"
   ]
  },
  {
   "cell_type": "code",
   "execution_count": 25,
   "metadata": {},
   "outputs": [
    {
     "data": {
      "text/plain": [
       "Index(['state', 'Clinton_Clinton_con', 'Clinton_Clinton_mixed',\n",
       "       'Clinton_Clinton_pro', 'Clinton_Clinton_unknown', 'Trump_Trump_con',\n",
       "       'Trump_Trump_mixed', 'Trump_Trump_pro', 'Trump_Trump_unknown',\n",
       "       'state_fips', 'winning_party', 'winning_candidate'],\n",
       "      dtype='object')"
      ]
     },
     "execution_count": 25,
     "metadata": {},
     "output_type": "execute_result"
    }
   ],
   "source": [
    "# Merge with election results\n",
    "clinton_ads=clinton_ads.add_prefix('Clinton_')\n",
    "trump_ads=trump_ads.add_prefix('Trump_')\n",
    "message_counts = pd.concat([clinton_ads, trump_ads],axis=1)\n",
    "message_counts = message_counts.merge(pres_results, on='state', how='left')\n",
    "message_counts.columns"
   ]
  },
  {
   "cell_type": "code",
   "execution_count": 26,
   "metadata": {},
   "outputs": [
    {
     "data": {
      "text/html": [
       "<div>\n",
       "<style scoped>\n",
       "    .dataframe tbody tr th:only-of-type {\n",
       "        vertical-align: middle;\n",
       "    }\n",
       "\n",
       "    .dataframe tbody tr th {\n",
       "        vertical-align: top;\n",
       "    }\n",
       "\n",
       "    .dataframe thead th {\n",
       "        text-align: right;\n",
       "    }\n",
       "</style>\n",
       "<table border=\"1\" class=\"dataframe\">\n",
       "  <thead>\n",
       "    <tr style=\"text-align: right;\">\n",
       "      <th></th>\n",
       "      <th>state</th>\n",
       "      <th>Clinton_con</th>\n",
       "      <th>Clinton_mixed</th>\n",
       "      <th>Clinton_pro</th>\n",
       "      <th>Clinton_unknown</th>\n",
       "      <th>Trump_con</th>\n",
       "      <th>Trump_mixed</th>\n",
       "      <th>Trump_pro</th>\n",
       "      <th>Trump_unknown</th>\n",
       "      <th>state_fips</th>\n",
       "      <th>winning_party</th>\n",
       "      <th>winning_candidate</th>\n",
       "    </tr>\n",
       "  </thead>\n",
       "  <tbody>\n",
       "    <tr>\n",
       "      <th>0</th>\n",
       "      <td>Arizona</td>\n",
       "      <td>662</td>\n",
       "      <td>851</td>\n",
       "      <td>484</td>\n",
       "      <td>12</td>\n",
       "      <td>1803</td>\n",
       "      <td>1108</td>\n",
       "      <td>71</td>\n",
       "      <td>25</td>\n",
       "      <td>04</td>\n",
       "      <td>REPUBLICAN</td>\n",
       "      <td>TRUMP, DONALD J.</td>\n",
       "    </tr>\n",
       "    <tr>\n",
       "      <th>1</th>\n",
       "      <td>California</td>\n",
       "      <td>2214</td>\n",
       "      <td>1623</td>\n",
       "      <td>1300</td>\n",
       "      <td>371</td>\n",
       "      <td>4184</td>\n",
       "      <td>1947</td>\n",
       "      <td>847</td>\n",
       "      <td>2098</td>\n",
       "      <td>06</td>\n",
       "      <td>DEMOCRAT</td>\n",
       "      <td>CLINTON, HILLARY</td>\n",
       "    </tr>\n",
       "    <tr>\n",
       "      <th>2</th>\n",
       "      <td>Colorado</td>\n",
       "      <td>875</td>\n",
       "      <td>1584</td>\n",
       "      <td>1247</td>\n",
       "      <td>9</td>\n",
       "      <td>1573</td>\n",
       "      <td>1585</td>\n",
       "      <td>652</td>\n",
       "      <td>21</td>\n",
       "      <td>08</td>\n",
       "      <td>DEMOCRAT</td>\n",
       "      <td>CLINTON, HILLARY</td>\n",
       "    </tr>\n",
       "  </tbody>\n",
       "</table>\n",
       "</div>"
      ],
      "text/plain": [
       "        state  Clinton_con  Clinton_mixed  Clinton_pro  Clinton_unknown  \\\n",
       "0     Arizona          662            851          484               12   \n",
       "1  California         2214           1623         1300              371   \n",
       "2    Colorado          875           1584         1247                9   \n",
       "\n",
       "   Trump_con  Trump_mixed  Trump_pro  Trump_unknown state_fips winning_party  \\\n",
       "0       1803         1108         71             25         04    REPUBLICAN   \n",
       "1       4184         1947        847           2098         06      DEMOCRAT   \n",
       "2       1573         1585        652             21         08      DEMOCRAT   \n",
       "\n",
       "  winning_candidate  \n",
       "0  TRUMP, DONALD J.  \n",
       "1  CLINTON, HILLARY  \n",
       "2  CLINTON, HILLARY  "
      ]
     },
     "execution_count": 26,
     "metadata": {},
     "output_type": "execute_result"
    }
   ],
   "source": [
    "message_counts.columns = ['state', 'Clinton_con', 'Clinton_mixed', 'Clinton_pro',\n",
    "       'Clinton_unknown', 'Trump_con', 'Trump_mixed', 'Trump_pro',\n",
    "       'Trump_unknown', 'state_fips', 'winning_party', 'winning_candidate']\n",
    "message_counts.head(3)"
   ]
  },
  {
   "cell_type": "code",
   "execution_count": 27,
   "metadata": {},
   "outputs": [
    {
     "data": {
      "text/html": [
       "<div>\n",
       "<style scoped>\n",
       "    .dataframe tbody tr th:only-of-type {\n",
       "        vertical-align: middle;\n",
       "    }\n",
       "\n",
       "    .dataframe tbody tr th {\n",
       "        vertical-align: top;\n",
       "    }\n",
       "\n",
       "    .dataframe thead th {\n",
       "        text-align: right;\n",
       "    }\n",
       "</style>\n",
       "<table border=\"1\" class=\"dataframe\">\n",
       "  <thead>\n",
       "    <tr style=\"text-align: right;\">\n",
       "      <th></th>\n",
       "      <th>state</th>\n",
       "      <th>Clinton_con</th>\n",
       "      <th>Clinton_mixed</th>\n",
       "      <th>Clinton_pro</th>\n",
       "      <th>Trump_con</th>\n",
       "      <th>Trump_mixed</th>\n",
       "      <th>Trump_pro</th>\n",
       "      <th>state_fips</th>\n",
       "      <th>winning_party</th>\n",
       "      <th>winning_candidate</th>\n",
       "    </tr>\n",
       "  </thead>\n",
       "  <tbody>\n",
       "    <tr>\n",
       "      <th>0</th>\n",
       "      <td>Arizona</td>\n",
       "      <td>662</td>\n",
       "      <td>851</td>\n",
       "      <td>484</td>\n",
       "      <td>1803</td>\n",
       "      <td>1108</td>\n",
       "      <td>71</td>\n",
       "      <td>04</td>\n",
       "      <td>REPUBLICAN</td>\n",
       "      <td>TRUMP, DONALD J.</td>\n",
       "    </tr>\n",
       "  </tbody>\n",
       "</table>\n",
       "</div>"
      ],
      "text/plain": [
       "     state  Clinton_con  Clinton_mixed  Clinton_pro  Trump_con  Trump_mixed  \\\n",
       "0  Arizona          662            851          484       1803         1108   \n",
       "\n",
       "   Trump_pro state_fips winning_party winning_candidate  \n",
       "0         71         04    REPUBLICAN  TRUMP, DONALD J.  "
      ]
     },
     "execution_count": 27,
     "metadata": {},
     "output_type": "execute_result"
    }
   ],
   "source": [
    "# Drop unknown\n",
    "message_counts = message_counts.drop(columns=['Clinton_unknown','Trump_unknown'])\n",
    "message_counts.head(1)"
   ]
  },
  {
   "cell_type": "code",
   "execution_count": 28,
   "metadata": {},
   "outputs": [
    {
     "data": {
      "text/html": [
       "<div>\n",
       "<style scoped>\n",
       "    .dataframe tbody tr th:only-of-type {\n",
       "        vertical-align: middle;\n",
       "    }\n",
       "\n",
       "    .dataframe tbody tr th {\n",
       "        vertical-align: top;\n",
       "    }\n",
       "\n",
       "    .dataframe thead th {\n",
       "        text-align: right;\n",
       "    }\n",
       "</style>\n",
       "<table border=\"1\" class=\"dataframe\">\n",
       "  <thead>\n",
       "    <tr style=\"text-align: right;\">\n",
       "      <th></th>\n",
       "      <th>state</th>\n",
       "      <th>Clinton_con</th>\n",
       "      <th>Clinton_mixed</th>\n",
       "      <th>Clinton_pro</th>\n",
       "      <th>Trump_con</th>\n",
       "      <th>Trump_mixed</th>\n",
       "      <th>Trump_pro</th>\n",
       "      <th>state_fips</th>\n",
       "      <th>winning_party</th>\n",
       "      <th>winning_candidate</th>\n",
       "      <th>Clinton_con_pct</th>\n",
       "      <th>Clinton_mixed_pct</th>\n",
       "      <th>Clinton_pro_pct</th>\n",
       "      <th>Trump_con_pct</th>\n",
       "      <th>Trump_mixed_pct</th>\n",
       "      <th>Trump_pro_pct</th>\n",
       "    </tr>\n",
       "  </thead>\n",
       "  <tbody>\n",
       "    <tr>\n",
       "      <th>0</th>\n",
       "      <td>Arizona</td>\n",
       "      <td>662</td>\n",
       "      <td>851</td>\n",
       "      <td>484</td>\n",
       "      <td>1803</td>\n",
       "      <td>1108</td>\n",
       "      <td>71</td>\n",
       "      <td>04</td>\n",
       "      <td>REPUBLICAN</td>\n",
       "      <td>TRUMP, DONALD J.</td>\n",
       "      <td>33.149725</td>\n",
       "      <td>42.613921</td>\n",
       "      <td>24.236355</td>\n",
       "      <td>60.462777</td>\n",
       "      <td>37.156271</td>\n",
       "      <td>2.380952</td>\n",
       "    </tr>\n",
       "    <tr>\n",
       "      <th>1</th>\n",
       "      <td>California</td>\n",
       "      <td>2214</td>\n",
       "      <td>1623</td>\n",
       "      <td>1300</td>\n",
       "      <td>4184</td>\n",
       "      <td>1947</td>\n",
       "      <td>847</td>\n",
       "      <td>06</td>\n",
       "      <td>DEMOCRAT</td>\n",
       "      <td>CLINTON, HILLARY</td>\n",
       "      <td>43.099085</td>\n",
       "      <td>31.594316</td>\n",
       "      <td>25.306599</td>\n",
       "      <td>59.959874</td>\n",
       "      <td>27.901978</td>\n",
       "      <td>12.138148</td>\n",
       "    </tr>\n",
       "    <tr>\n",
       "      <th>2</th>\n",
       "      <td>Colorado</td>\n",
       "      <td>875</td>\n",
       "      <td>1584</td>\n",
       "      <td>1247</td>\n",
       "      <td>1573</td>\n",
       "      <td>1585</td>\n",
       "      <td>652</td>\n",
       "      <td>08</td>\n",
       "      <td>DEMOCRAT</td>\n",
       "      <td>CLINTON, HILLARY</td>\n",
       "      <td>23.610362</td>\n",
       "      <td>42.741500</td>\n",
       "      <td>33.648138</td>\n",
       "      <td>41.286089</td>\n",
       "      <td>41.601050</td>\n",
       "      <td>17.112861</td>\n",
       "    </tr>\n",
       "    <tr>\n",
       "      <th>3</th>\n",
       "      <td>Florida</td>\n",
       "      <td>2023</td>\n",
       "      <td>3408</td>\n",
       "      <td>1735</td>\n",
       "      <td>8149</td>\n",
       "      <td>4854</td>\n",
       "      <td>1679</td>\n",
       "      <td>12</td>\n",
       "      <td>REPUBLICAN</td>\n",
       "      <td>TRUMP, DONALD J.</td>\n",
       "      <td>28.230533</td>\n",
       "      <td>47.557912</td>\n",
       "      <td>24.211555</td>\n",
       "      <td>55.503337</td>\n",
       "      <td>33.060891</td>\n",
       "      <td>11.435772</td>\n",
       "    </tr>\n",
       "    <tr>\n",
       "      <th>4</th>\n",
       "      <td>Iowa</td>\n",
       "      <td>932</td>\n",
       "      <td>2724</td>\n",
       "      <td>7974</td>\n",
       "      <td>3254</td>\n",
       "      <td>3205</td>\n",
       "      <td>3048</td>\n",
       "      <td>19</td>\n",
       "      <td>REPUBLICAN</td>\n",
       "      <td>TRUMP, DONALD J.</td>\n",
       "      <td>8.013758</td>\n",
       "      <td>23.422184</td>\n",
       "      <td>68.564058</td>\n",
       "      <td>34.227411</td>\n",
       "      <td>33.712002</td>\n",
       "      <td>32.060587</td>\n",
       "    </tr>\n",
       "    <tr>\n",
       "      <th>5</th>\n",
       "      <td>Maryland</td>\n",
       "      <td>208</td>\n",
       "      <td>977</td>\n",
       "      <td>57</td>\n",
       "      <td>518</td>\n",
       "      <td>1222</td>\n",
       "      <td>62</td>\n",
       "      <td>24</td>\n",
       "      <td>DEMOCRAT</td>\n",
       "      <td>CLINTON, HILLARY</td>\n",
       "      <td>16.747182</td>\n",
       "      <td>78.663446</td>\n",
       "      <td>4.589372</td>\n",
       "      <td>28.745838</td>\n",
       "      <td>67.813541</td>\n",
       "      <td>3.440622</td>\n",
       "    </tr>\n",
       "    <tr>\n",
       "      <th>6</th>\n",
       "      <td>Nevada</td>\n",
       "      <td>1010</td>\n",
       "      <td>2960</td>\n",
       "      <td>4657</td>\n",
       "      <td>5813</td>\n",
       "      <td>3449</td>\n",
       "      <td>1414</td>\n",
       "      <td>32</td>\n",
       "      <td>DEMOCRAT</td>\n",
       "      <td>CLINTON, HILLARY</td>\n",
       "      <td>11.707430</td>\n",
       "      <td>34.310884</td>\n",
       "      <td>53.981685</td>\n",
       "      <td>54.449232</td>\n",
       "      <td>32.306107</td>\n",
       "      <td>13.244661</td>\n",
       "    </tr>\n",
       "    <tr>\n",
       "      <th>7</th>\n",
       "      <td>New Hampshire</td>\n",
       "      <td>907</td>\n",
       "      <td>2058</td>\n",
       "      <td>3102</td>\n",
       "      <td>5155</td>\n",
       "      <td>1877</td>\n",
       "      <td>1628</td>\n",
       "      <td>33</td>\n",
       "      <td>DEMOCRAT</td>\n",
       "      <td>CLINTON, HILLARY</td>\n",
       "      <td>14.949728</td>\n",
       "      <td>33.921213</td>\n",
       "      <td>51.129059</td>\n",
       "      <td>59.526559</td>\n",
       "      <td>21.674365</td>\n",
       "      <td>18.799076</td>\n",
       "    </tr>\n",
       "    <tr>\n",
       "      <th>8</th>\n",
       "      <td>New York</td>\n",
       "      <td>8</td>\n",
       "      <td>250</td>\n",
       "      <td>687</td>\n",
       "      <td>47</td>\n",
       "      <td>261</td>\n",
       "      <td>5</td>\n",
       "      <td>36</td>\n",
       "      <td>DEMOCRAT</td>\n",
       "      <td>CLINTON, HILLARY</td>\n",
       "      <td>0.846561</td>\n",
       "      <td>26.455026</td>\n",
       "      <td>72.698413</td>\n",
       "      <td>15.015974</td>\n",
       "      <td>83.386581</td>\n",
       "      <td>1.597444</td>\n",
       "    </tr>\n",
       "    <tr>\n",
       "      <th>9</th>\n",
       "      <td>North Carolina</td>\n",
       "      <td>640</td>\n",
       "      <td>2091</td>\n",
       "      <td>2949</td>\n",
       "      <td>3698</td>\n",
       "      <td>2637</td>\n",
       "      <td>1269</td>\n",
       "      <td>37</td>\n",
       "      <td>REPUBLICAN</td>\n",
       "      <td>TRUMP, DONALD J.</td>\n",
       "      <td>11.267606</td>\n",
       "      <td>36.813380</td>\n",
       "      <td>51.919014</td>\n",
       "      <td>48.632299</td>\n",
       "      <td>34.679116</td>\n",
       "      <td>16.688585</td>\n",
       "    </tr>\n",
       "    <tr>\n",
       "      <th>10</th>\n",
       "      <td>Ohio</td>\n",
       "      <td>1866</td>\n",
       "      <td>2707</td>\n",
       "      <td>2872</td>\n",
       "      <td>4532</td>\n",
       "      <td>3771</td>\n",
       "      <td>1050</td>\n",
       "      <td>39</td>\n",
       "      <td>REPUBLICAN</td>\n",
       "      <td>TRUMP, DONALD J.</td>\n",
       "      <td>25.063801</td>\n",
       "      <td>36.359973</td>\n",
       "      <td>38.576226</td>\n",
       "      <td>48.455041</td>\n",
       "      <td>40.318614</td>\n",
       "      <td>11.226344</td>\n",
       "    </tr>\n",
       "    <tr>\n",
       "      <th>11</th>\n",
       "      <td>Pennsylvania</td>\n",
       "      <td>1725</td>\n",
       "      <td>3123</td>\n",
       "      <td>2016</td>\n",
       "      <td>7420</td>\n",
       "      <td>4084</td>\n",
       "      <td>969</td>\n",
       "      <td>42</td>\n",
       "      <td>REPUBLICAN</td>\n",
       "      <td>TRUMP, DONALD J.</td>\n",
       "      <td>25.131119</td>\n",
       "      <td>45.498252</td>\n",
       "      <td>29.370629</td>\n",
       "      <td>59.488495</td>\n",
       "      <td>32.742724</td>\n",
       "      <td>7.768781</td>\n",
       "    </tr>\n",
       "    <tr>\n",
       "      <th>12</th>\n",
       "      <td>South Carolina</td>\n",
       "      <td>41</td>\n",
       "      <td>119</td>\n",
       "      <td>1164</td>\n",
       "      <td>275</td>\n",
       "      <td>520</td>\n",
       "      <td>242</td>\n",
       "      <td>45</td>\n",
       "      <td>REPUBLICAN</td>\n",
       "      <td>TRUMP, DONALD J.</td>\n",
       "      <td>3.096677</td>\n",
       "      <td>8.987915</td>\n",
       "      <td>87.915408</td>\n",
       "      <td>26.518804</td>\n",
       "      <td>50.144648</td>\n",
       "      <td>23.336548</td>\n",
       "    </tr>\n",
       "    <tr>\n",
       "      <th>13</th>\n",
       "      <td>Virginia</td>\n",
       "      <td>0</td>\n",
       "      <td>3</td>\n",
       "      <td>340</td>\n",
       "      <td>2</td>\n",
       "      <td>0</td>\n",
       "      <td>90</td>\n",
       "      <td>51</td>\n",
       "      <td>DEMOCRAT</td>\n",
       "      <td>CLINTON, HILLARY</td>\n",
       "      <td>0.000000</td>\n",
       "      <td>0.874636</td>\n",
       "      <td>99.125364</td>\n",
       "      <td>2.173913</td>\n",
       "      <td>0.000000</td>\n",
       "      <td>97.826087</td>\n",
       "    </tr>\n",
       "    <tr>\n",
       "      <th>14</th>\n",
       "      <td>Wisconsin</td>\n",
       "      <td>2434</td>\n",
       "      <td>796</td>\n",
       "      <td>83</td>\n",
       "      <td>1063</td>\n",
       "      <td>954</td>\n",
       "      <td>443</td>\n",
       "      <td>55</td>\n",
       "      <td>REPUBLICAN</td>\n",
       "      <td>TRUMP, DONALD J.</td>\n",
       "      <td>73.468156</td>\n",
       "      <td>24.026562</td>\n",
       "      <td>2.505282</td>\n",
       "      <td>43.211382</td>\n",
       "      <td>38.780488</td>\n",
       "      <td>18.008130</td>\n",
       "    </tr>\n",
       "  </tbody>\n",
       "</table>\n",
       "</div>"
      ],
      "text/plain": [
       "             state  Clinton_con  Clinton_mixed  Clinton_pro  Trump_con  \\\n",
       "0          Arizona          662            851          484       1803   \n",
       "1       California         2214           1623         1300       4184   \n",
       "2         Colorado          875           1584         1247       1573   \n",
       "3          Florida         2023           3408         1735       8149   \n",
       "4             Iowa          932           2724         7974       3254   \n",
       "5         Maryland          208            977           57        518   \n",
       "6           Nevada         1010           2960         4657       5813   \n",
       "7    New Hampshire          907           2058         3102       5155   \n",
       "8         New York            8            250          687         47   \n",
       "9   North Carolina          640           2091         2949       3698   \n",
       "10            Ohio         1866           2707         2872       4532   \n",
       "11    Pennsylvania         1725           3123         2016       7420   \n",
       "12  South Carolina           41            119         1164        275   \n",
       "13        Virginia            0              3          340          2   \n",
       "14       Wisconsin         2434            796           83       1063   \n",
       "\n",
       "    Trump_mixed  Trump_pro state_fips winning_party winning_candidate  \\\n",
       "0          1108         71         04    REPUBLICAN  TRUMP, DONALD J.   \n",
       "1          1947        847         06      DEMOCRAT  CLINTON, HILLARY   \n",
       "2          1585        652         08      DEMOCRAT  CLINTON, HILLARY   \n",
       "3          4854       1679         12    REPUBLICAN  TRUMP, DONALD J.   \n",
       "4          3205       3048         19    REPUBLICAN  TRUMP, DONALD J.   \n",
       "5          1222         62         24      DEMOCRAT  CLINTON, HILLARY   \n",
       "6          3449       1414         32      DEMOCRAT  CLINTON, HILLARY   \n",
       "7          1877       1628         33      DEMOCRAT  CLINTON, HILLARY   \n",
       "8           261          5         36      DEMOCRAT  CLINTON, HILLARY   \n",
       "9          2637       1269         37    REPUBLICAN  TRUMP, DONALD J.   \n",
       "10         3771       1050         39    REPUBLICAN  TRUMP, DONALD J.   \n",
       "11         4084        969         42    REPUBLICAN  TRUMP, DONALD J.   \n",
       "12          520        242         45    REPUBLICAN  TRUMP, DONALD J.   \n",
       "13            0         90         51      DEMOCRAT  CLINTON, HILLARY   \n",
       "14          954        443         55    REPUBLICAN  TRUMP, DONALD J.   \n",
       "\n",
       "    Clinton_con_pct  Clinton_mixed_pct  Clinton_pro_pct  Trump_con_pct  \\\n",
       "0         33.149725          42.613921        24.236355      60.462777   \n",
       "1         43.099085          31.594316        25.306599      59.959874   \n",
       "2         23.610362          42.741500        33.648138      41.286089   \n",
       "3         28.230533          47.557912        24.211555      55.503337   \n",
       "4          8.013758          23.422184        68.564058      34.227411   \n",
       "5         16.747182          78.663446         4.589372      28.745838   \n",
       "6         11.707430          34.310884        53.981685      54.449232   \n",
       "7         14.949728          33.921213        51.129059      59.526559   \n",
       "8          0.846561          26.455026        72.698413      15.015974   \n",
       "9         11.267606          36.813380        51.919014      48.632299   \n",
       "10        25.063801          36.359973        38.576226      48.455041   \n",
       "11        25.131119          45.498252        29.370629      59.488495   \n",
       "12         3.096677           8.987915        87.915408      26.518804   \n",
       "13         0.000000           0.874636        99.125364       2.173913   \n",
       "14        73.468156          24.026562         2.505282      43.211382   \n",
       "\n",
       "    Trump_mixed_pct  Trump_pro_pct  \n",
       "0         37.156271       2.380952  \n",
       "1         27.901978      12.138148  \n",
       "2         41.601050      17.112861  \n",
       "3         33.060891      11.435772  \n",
       "4         33.712002      32.060587  \n",
       "5         67.813541       3.440622  \n",
       "6         32.306107      13.244661  \n",
       "7         21.674365      18.799076  \n",
       "8         83.386581       1.597444  \n",
       "9         34.679116      16.688585  \n",
       "10        40.318614      11.226344  \n",
       "11        32.742724       7.768781  \n",
       "12        50.144648      23.336548  \n",
       "13         0.000000      97.826087  \n",
       "14        38.780488      18.008130  "
      ]
     },
     "execution_count": 28,
     "metadata": {},
     "output_type": "execute_result"
    }
   ],
   "source": [
    "def get_percentages(row):\n",
    "    clinton_total = row['Clinton_con'] + row['Clinton_pro'] + row['Clinton_mixed']\n",
    "    trump_total = row['Trump_con'] + row['Trump_pro'] + row['Trump_mixed']\n",
    "    return pd.Series({\n",
    "        'Clinton_con_pct': row['Clinton_con'] / clinton_total * 100 if clinton_total > 0 else 0,\n",
    "        'Clinton_mixed_pct': row['Clinton_mixed'] / clinton_total * 100 if clinton_total > 0 else 0,\n",
    "        'Clinton_pro_pct': row['Clinton_pro'] / clinton_total * 100 if clinton_total > 0 else 0,\n",
    "        'Trump_con_pct': row['Trump_con'] / trump_total * 100 if trump_total > 0 else 0,\n",
    "        'Trump_mixed_pct': row['Trump_mixed'] / trump_total * 100 if trump_total > 0 else 0,\n",
    "        'Trump_pro_pct': row['Trump_pro'] / trump_total * 100 if trump_total > 0 else 0,\n",
    "    })\n",
    "\n",
    "message_pct = message_counts.join(message_counts.apply(get_percentages, axis=1))\n",
    "message_pct"
   ]
  },
  {
   "cell_type": "code",
   "execution_count": 29,
   "metadata": {},
   "outputs": [
    {
     "data": {
      "image/png": "[encoded data removed]",
      "text/plain": [
       "<Figure size 1500x1000 with 2 Axes>"
      ]
     },
     "metadata": {},
     "output_type": "display_data"
    }
   ],
   "source": [
    "fig, (ax1, ax2) = plt.subplots(2,1, figsize=(15,10))\n",
    "for winner in message_pct.winning_candidate.unique():\n",
    "    winner_data = message_pct[message_pct.winning_candidate==winner]\n",
    "    clinton_data = winner_data.sort_values(['Clinton_pro_pct'],ascending=False)\n",
    "    clinton_data = winner_data[[\n",
    "        'Clinton_con_pct',\n",
    "        'Clinton_pro_pct',\n",
    "        'Clinton_mixed_pct'\n",
    "    ]]\n",
    "    clinton_data.plot(\n",
    "        kind='bar',\n",
    "        stacked=True,\n",
    "        ax=ax1,\n",
    "        color= ['red','green','gray'],\n",
    "        label=winner\n",
    "    )\n",
    "\n",
    "ax1.set_title('Distribution of Clinton Ad Messages by State', fontsize=16)\n",
    "ax1.set_xlabel('State',fontsize=12)\n",
    "ax1.set_ylabel('% of Ads', fontsize=12)\n",
    "#ax1.tick_params(axis='x', rotation=45)\n",
    "ax1.set_xticklabels(winner_data['state'],rotation=45)\n",
    "ax1.legend(['Con','Pro','Mixed'], bbox_to_anchor=(1.1,0.5))\n",
    "\n",
    "for winner in message_pct.winning_candidate.unique():\n",
    "    winner_data = message_pct[message_pct.winning_candidate==winner]\n",
    "    trump_data = winner_data.sort_values(['Trump_pro_pct'],ascending=False)\n",
    "    trump_data = winner_data[[\n",
    "        'Trump_con_pct',\n",
    "        'Trump_pro_pct',\n",
    "        'Trump_mixed_pct'\n",
    "    ]]\n",
    "    trump_data.plot(\n",
    "        kind='bar',\n",
    "        stacked=True,\n",
    "        ax=ax2,\n",
    "        color= ['red','green','gray'],\n",
    "        label=winner\n",
    "    )\n",
    "\n",
    "ax2.set_title('Distribution of Trump Ad Messages by State', fontsize=16)\n",
    "ax2.set_xlabel('State',fontsize=12)\n",
    "ax2.set_ylabel('% of Ads', fontsize=12)\n",
    "ax2.set_xticklabels(winner_data['state'],rotation=45)\n",
    "ax2.legend(['Con','Pro','Mixed'], bbox_to_anchor=(1.1,0.5))\n",
    "\n",
    "plt.subplots_adjust(hspace=0.8)\n",
    "\n",
    "plt.show()"
   ]
  },
  {
   "cell_type": "code",
   "execution_count": 30,
   "metadata": {},
   "outputs": [
    {
     "data": {
      "image/png": "[encoded data removed]",
      "text/plain": [
       "<Figure size 2000x1500 with 2 Axes>"
      ]
     },
     "metadata": {},
     "output_type": "display_data"
    }
   ],
   "source": [
    "fig, (ax1, ax2) = plt.subplots(2, 1, figsize=(20, 15))\n",
    "\n",
    "clinton_won = message_pct[message_pct.winning_candidate == 'CLINTON, HILLARY']\n",
    "trump_won = message_pct[message_pct.winning_candidate == 'TRUMP, DONALD J.']\n",
    "\n",
    "# 1. Clinton messages in Trump-won states\n",
    "trump_won[[\n",
    "    'Clinton_con_pct',\n",
    "    'Clinton_pro_pct',\n",
    "    'Clinton_mixed_pct'\n",
    "]].plot(\n",
    "    kind='bar',\n",
    "    stacked=True,\n",
    "    ax=ax1,\n",
    "    color=['red', 'green', 'gray'],\n",
    "    sharex=True\n",
    ")\n",
    "ax1.set_title('Clinton Mentions in Trump-Won States', fontsize=24)\n",
    "ax1.set_xlabel('State', fontsize=20)\n",
    "ax1.set_ylabel('% of Ads', fontsize=20)\n",
    "ax1.set_xticklabels(trump_won['state'], rotation=45)\n",
    "ax1.legend(['Con', 'Pro', 'Mixed'], bbox_to_anchor=(1.05, 1), loc='upper left')\n",
    "\n",
    "# 2. Trump messages in Trump-won states\n",
    "trump_won[[\n",
    "    'Trump_con_pct',\n",
    "    'Trump_pro_pct',\n",
    "    'Trump_mixed_pct'\n",
    "]].plot(\n",
    "    kind='bar',\n",
    "    stacked=True,\n",
    "    ax=ax2,\n",
    "    color=['red', 'green', 'gray']\n",
    ")\n",
    "ax2.set_title('Trump Mentions in Trump-Won States', fontsize=24)\n",
    "ax2.set_xlabel('State', fontsize=20)\n",
    "ax2.set_ylabel('% of Ads', fontsize=20)\n",
    "ax2.set_xticklabels(trump_won['state'], rotation=45)\n",
    "ax2.legend(['Con', 'Pro', 'Mixed'], bbox_to_anchor=(1.05, 1), loc='upper left')\n",
    "\n",
    "plt.subplots_adjust(wspace=0.4, hspace=0.3, right=0.9)\n",
    "plt.show()"
   ]
  },
  {
   "cell_type": "code",
   "execution_count": 31,
   "metadata": {},
   "outputs": [
    {
     "data": {
      "image/png": "[encoded data removed]",
      "text/plain": [
       "<Figure size 2000x1500 with 2 Axes>"
      ]
     },
     "metadata": {},
     "output_type": "display_data"
    }
   ],
   "source": [
    "fig, (ax1, ax2) = plt.subplots(2, 1, figsize=(20, 15))\n",
    "\n",
    "clinton_won = message_pct[message_pct.winning_candidate == 'CLINTON, HILLARY']\n",
    "trump_won = message_pct[message_pct.winning_candidate == 'TRUMP, DONALD J.']\n",
    "\n",
    "# 1. Clinton messages in Clinton-won states\n",
    "clinton_won[[\n",
    "    'Clinton_con_pct',\n",
    "    'Clinton_pro_pct',\n",
    "    'Clinton_mixed_pct'\n",
    "]].plot(\n",
    "    kind='bar',\n",
    "    stacked=True,\n",
    "    ax=ax1,\n",
    "    color=['red', 'green', 'gray'],\n",
    "    sharex=True\n",
    ")\n",
    "ax1.set_title('Clinton Mentions in Clinton-Won States', fontsize=24)\n",
    "ax1.set_xlabel('State', fontsize=20)\n",
    "ax1.set_ylabel('% of Ads', fontsize=20)\n",
    "ax1.set_xticklabels(clinton_won['state'], rotation=45)\n",
    "ax1.legend(['Con', 'Pro', 'Mixed'], bbox_to_anchor=(1.05, 1), loc='upper left')\n",
    "\n",
    "\n",
    "# 2. Trump messages in Clinton-won states\n",
    "clinton_won[[\n",
    "    'Trump_con_pct',\n",
    "    'Trump_pro_pct',\n",
    "    'Trump_mixed_pct'\n",
    "]].plot(\n",
    "    kind='bar',\n",
    "    stacked=True,\n",
    "    ax=ax2,\n",
    "    color=['red', 'green', 'gray']\n",
    ")\n",
    "ax2.set_title('Trump Mentions in Clinton-Won States', fontsize=24)\n",
    "ax2.set_xlabel('State', fontsize=20)\n",
    "ax2.set_ylabel('% of Ads', fontsize=20)\n",
    "ax2.set_xticklabels(clinton_won['state'], rotation=45)\n",
    "ax2.legend(['Con', 'Pro', 'Mixed'], bbox_to_anchor=(1.05, 1), loc='upper left')\n",
    "\n",
    "\n",
    "plt.subplots_adjust(wspace=0.4, hspace=0.3, right=0.9)\n",
    "plt.show()"
   ]
  }
 ],
 "metadata": {
  "kernelspec": {
   "display_name": "base",
   "language": "python",
   "name": "python3"
  },
  "language_info": {
   "codemirror_mode": {
    "name": "ipython",
    "version": 3
   },
   "file_extension": ".py",
   "mimetype": "text/x-python",
   "name": "python",
   "nbconvert_exporter": "python",
   "pygments_lexer": "ipython3",
   "version": "3.11.4"
  }
 },
 "nbformat": 4,
 "nbformat_minor": 2
}
